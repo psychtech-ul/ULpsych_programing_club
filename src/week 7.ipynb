{
 "cells": [
  {
   "cell_type": "markdown",
   "metadata": {},
   "source": [
    "# Week 7 - processing and saving data (Like a bawce!)\n",
    "\n",
    "Welcome back to these python for SPSS users workshops. Over the last couple of weeks we have introduced you to some of the basics of working with data in python using the `pandas` module. We've introduced you to `dataframes` and some of the ways you can create them, such as creating them from scratch (`pd.DataFrame()`) or 'reading' in your data from .csv files (`pd.read_csv()`) or .sav files (`pd.read_spss()`). \n",
    "\n",
    "We then went on to talking about examining your `df` by checking things like the `head()`, `tail()`, `shape`, and `columns`. Then we took this further by looking at `slicing` our data to get specific rows and columns based on their numerical index. "
   ]
  }
 ],
 "metadata": {
  "kernelspec": {
   "display_name": "projectnameresearch",
   "language": "python",
   "name": "projectnameresearch"
  },
  "language_info": {
   "name": "python",
   "version": "3.9.6"
  },
  "orig_nbformat": 4
 },
 "nbformat": 4,
 "nbformat_minor": 2
}
