{
 "cells": [
  {
   "cell_type": "markdown",
   "metadata": {},
   "source": [
    "# Week 7 - processing and saving data (Like a bawce!)\n",
    "\n",
    "Welcome back to these python for SPSS users workshops. Over the last couple of weeks we have introduced you to some of the basics of working with data in python using the `pandas` module. We've introduced you to `dataframes` and some of the ways you can create them, such as creating them from scratch (`pd.DataFrame()`) or 'reading' in your data from .csv files (`pd.read_csv()`) or .sav files (`pd.read_spss()`). \n",
    "\n",
    "We then went on to talking about examining your `df` by checking things like the `head()`, `tail()`, `shape`, and `columns`. Then we took this further by looking at `slicing` our data to get specific rows and columns based on their numerical index. \n",
    "\n",
    "This week we're going to 'finish' up the python part of these workshops by generating some descriptive statistics, simple plots, and saving output. But first things first - we need some data. \n",
    "\n",
    "Remember that the first thing we do is import the modules we'll need, so in the cell below please import `pandas`, `pathlib`, and `numpy`"
   ]
  },
  {
   "cell_type": "code",
   "execution_count": null,
   "metadata": {},
   "outputs": [],
   "source": [
    "# import the needed modules in this cell\n"
   ]
  },
  {
   "cell_type": "code",
   "execution_count": 1,
   "metadata": {},
   "outputs": [],
   "source": [
    "import pathlib as pl\n",
    "import pandas as pd\n",
    "import numpy as np"
   ]
  },
  {
   "cell_type": "markdown",
   "metadata": {},
   "source": [
    "Excellent! Modules imported and now we need some data. Read through and run the cell below to create the `movies_df` so that we have some data to work with. \n",
    "\n",
    "(Do actually read through the cell and try to make sense of what we've done)"
   ]
  },
  {
   "cell_type": "code",
   "execution_count": 6,
   "metadata": {},
   "outputs": [
    {
     "data": {
      "text/html": [
       "<div>\n",
       "<style scoped>\n",
       "    .dataframe tbody tr th:only-of-type {\n",
       "        vertical-align: middle;\n",
       "    }\n",
       "\n",
       "    .dataframe tbody tr th {\n",
       "        vertical-align: top;\n",
       "    }\n",
       "\n",
       "    .dataframe thead th {\n",
       "        text-align: right;\n",
       "    }\n",
       "</style>\n",
       "<table border=\"1\" class=\"dataframe\">\n",
       "  <thead>\n",
       "    <tr style=\"text-align: right;\">\n",
       "      <th></th>\n",
       "      <th>Participant Name</th>\n",
       "      <th>Movie Title</th>\n",
       "      <th>Genre</th>\n",
       "      <th>Year of Release</th>\n",
       "      <th>ImdB Score</th>\n",
       "      <th>Rotten Tomatoes Score</th>\n",
       "      <th>Gender of Lead</th>\n",
       "    </tr>\n",
       "  </thead>\n",
       "  <tbody>\n",
       "    <tr>\n",
       "      <th>0</th>\n",
       "      <td>John Carpenter</td>\n",
       "      <td>The Thing</td>\n",
       "      <td>Horror</td>\n",
       "      <td>1982</td>\n",
       "      <td>82.0</td>\n",
       "      <td>82.0</td>\n",
       "      <td>Male</td>\n",
       "    </tr>\n",
       "    <tr>\n",
       "      <th>1</th>\n",
       "      <td>Nicolas Winding Refn</td>\n",
       "      <td>Drive</td>\n",
       "      <td>Action</td>\n",
       "      <td>2011</td>\n",
       "      <td>78.0</td>\n",
       "      <td>93.0</td>\n",
       "      <td>Male</td>\n",
       "    </tr>\n",
       "    <tr>\n",
       "      <th>2</th>\n",
       "      <td>Matthijs van Heijningen</td>\n",
       "      <td>The Thing</td>\n",
       "      <td>Horror</td>\n",
       "      <td>2011</td>\n",
       "      <td>62.0</td>\n",
       "      <td>34.0</td>\n",
       "      <td>Female</td>\n",
       "    </tr>\n",
       "    <tr>\n",
       "      <th>3</th>\n",
       "      <td>Dennis Villanueve</td>\n",
       "      <td>Arrival</td>\n",
       "      <td>Sci-Fi</td>\n",
       "      <td>2016</td>\n",
       "      <td>79.0</td>\n",
       "      <td>94.0</td>\n",
       "      <td>Male</td>\n",
       "    </tr>\n",
       "    <tr>\n",
       "      <th>4</th>\n",
       "      <td>Coen Brothers</td>\n",
       "      <td>No Country for Old Men</td>\n",
       "      <td>Drama</td>\n",
       "      <td>2007</td>\n",
       "      <td>82.0</td>\n",
       "      <td>93.0</td>\n",
       "      <td>Female</td>\n",
       "    </tr>\n",
       "  </tbody>\n",
       "</table>\n",
       "</div>"
      ],
      "text/plain": [
       "          Participant Name             Movie Title   Genre Year of Release  \\\n",
       "0           John Carpenter               The Thing  Horror            1982   \n",
       "1     Nicolas Winding Refn                   Drive  Action            2011   \n",
       "2  Matthijs van Heijningen               The Thing  Horror            2011   \n",
       "3        Dennis Villanueve                 Arrival  Sci-Fi            2016   \n",
       "4            Coen Brothers  No Country for Old Men   Drama            2007   \n",
       "\n",
       "   ImdB Score  Rotten Tomatoes Score Gender of Lead  \n",
       "0        82.0                   82.0           Male  \n",
       "1        78.0                   93.0           Male  \n",
       "2        62.0                   34.0         Female  \n",
       "3        79.0                   94.0           Male  \n",
       "4        82.0                   93.0         Female  "
      ]
     },
     "execution_count": 6,
     "metadata": {},
     "output_type": "execute_result"
    }
   ],
   "source": [
    "# initialise some list objects that contains our data, this could also be a list of lists, or a dict of lists for example\n",
    "director = ['John Carpenter', '', 'Nicolas Winding Refn', 'Matthijs van Heijningen', 'Damien Chazelle', 'Dennis Villanueve', 'Coen Brothers', 'Kelly Asbury', 'Edgar Wright', 'Coen Brothers']\n",
    "names = ['The Thing', 'Blade Runner 2049', 'Drive',  'The Thing', 'Whiplash', 'Arrival', 'No Country for Old Men', 'Shrek 2', 'Hot Fuzz', 'Fargo']\n",
    "genre = ['Horror', 'Sci-Fi', 'Action', 'Horror', 'Drama', 'Sci-Fi', 'Drama', 'Comedy', 'Comedy', 'Dark Comedy']\n",
    "year = ['1982', '2017', '2011', '2011', '2014', '2016', '2007', '2004', '2007', '1996']\n",
    "imdb_score = [82, 80, 78, 62, np.nan, 79, 82, 73, 78, 81]\n",
    "rt_critics = [82, 88, 93, 34, np.nan, 94, 93, 89, 91, 94]\n",
    "lead = ['male', 'Male', 'm', 'Female', 'm', 'Male', 'fem', 'Orgre', 'Male', 'Male']\n",
    "\n",
    "\n",
    "#turning those lists into a dataframe\n",
    "movies_df = pd.DataFrame(# opening brackets but moving to new line for readability, note the uppercase D and F in the call\n",
    "    list(zip(director, names, genre, year, imdb_score, rt_critics, lead)), #first argument note the comma at the end of it, this is a couple of nested functions\n",
    "    columns = ['Participant Name', 'Movie Title', 'Genre', 'Year of Release', 'ImdB Score', 'Rotten Tomatoes Score', 'Gender of Lead']# second argument , passing a list to the columns arguments\n",
    "    )# closing the first pair of brackets to complete the function call\n",
    "\n",
    "\n",
    "# cleaning the data a little. \n",
    "movies_df = movies_df.replace(r'^\\s*$', np.nan, regex=True).dropna().reset_index(drop=True) #\n",
    "#notice how we've 'chained' a bunch of methods together to make all empty cells appear as 'np.nan', then dropping all 'nan' cells then resetting the index\n",
    "#that one line of code! Imagine if it was a huge data set\n",
    "\n",
    "movies_df.iloc[:, -1:] = movies_df.iloc[:, -1:].replace(to_replace = [\"m\"], value = \"Male\") #Fixing the male values\n",
    "movies_df.iloc[:, -1:] = movies_df.iloc[:, -1:].replace(to_replace = [\"fem\"], value = \"Female\") # fixing the female values\n",
    "movies_df['Gender of Lead'] = movies_df['Gender of Lead'].str.capitalize()\n",
    "\n",
    "movies_df.head()# displaying the first 5 columns of the movies_df"
   ]
  },
  {
   "cell_type": "markdown",
   "metadata": {},
   "source": [
    "OK, now that we have some data to work with we can start to play around a little. \n",
    "\n",
    "\n",
    "## Saving data\n",
    "\n",
    "One of the key things we might want to do is **save** our data now that we've made it. In this case we've made the dataset somewhat from scratch and maybe we want to be able to save it so that we can send it onto other researchers, or maybe you have done lots of work cleaning a data set and you want to save it so that yo ucan comeback and analyse it in a new jupyter notebook later. \n",
    "\n",
    "Saving your data is a good idea and fortunately the syntax for saving a dataframe is, at the heart of it, really easy. \n",
    "\n",
    "\n",
    "```\n",
    "#saving a dataframe to a csv file\n",
    "name_of_dataframe.to_csv('path\\to\\where\\you\\want\\to\\save\\filename.csv')\n",
    "\n",
    "#saving a dataframe to an excel file\n",
    "name_of_dataframe.to_excel('path\\to\\where\\you\\want\\to\\save\\filename.xlsx')\n",
    "\n",
    "``` \n",
    "\n",
    "So above, we have two examples of saving a `pandas DataFrame`, one to a `.csv` file and one to a `.xlsx` file. Let's just take a second and walk through the actual syntax we used above. \n",
    "\n",
    "\n",
    " 1. The first thing we do is call the `variable` we want to work on, in this case using the name of our dataframe\n",
    " 2. We follow this with a fullstop `.` because saving a file is method (go back and check out week 6 for a little bit about class methods)\n",
    " 3. This is followed by `to_` and then the type of file we're exporting to, so `to_csv` for csvs or `to_excel` \n",
    " 4. Then we open brackets `()` and we pass the `path` to where we want the file to live \n",
    "    1. This can be an `r-string` \n",
    "    2. Or it can be a `pl.Path()` object\n",
    "    3. but it has to end in `\\filename.filetype`\n",
    "\n",
    "\n",
    "Whether or not you use an `r-string` or a `Path` is often a matter of personal prefernce, but we would encourage you to work with `Path` objects more often because they can be a lot more flexible. Let's take an aside for a few minutes and look at what we can do with `Paths` to make our lives easier. \n",
    "\n",
    "## Path components \n",
    "\n",
    "Much like a `DataFrame` has attributes like `.columns` and `.shape`, a `Path` object also has attributes that can be useful, and these attributes are bassically just the components of a file path. For a really good breakdown of the `pathlib` module you should check out [this tutorial](https://realpython.com/python-pathlib/) (in particular take a look at the 'Picking out the components of a path' section). These `attributes` allow us to pick apart a `path` so that we can use the bits of it we need. To get a sense of this, in the cell below create a `Path` to the `csv` version of the raw data we sent you in week 5 (it should be called 'raw_data_csv.csv' and it should be in the 'data' sub-folder)\n"
   ]
  },
  {
   "cell_type": "code",
   "execution_count": 20,
   "metadata": {},
   "outputs": [],
   "source": [
    "#make your path object on the next line\n",
    "\n",
    "csv_file = pl.Path(r'')#just paste the path to your file between the ''\n"
   ]
  },
  {
   "cell_type": "markdown",
   "metadata": {},
   "source": [
    "Now that we have an example path, we can can look at some of the attributes.\n",
    "\n",
    "### name\n",
    "if we want to get the name of the file or folder that a `path` points to, we just use the syntax\n",
    "\n",
    "```\n",
    "file_variable.name\n",
    "```\n",
    "\n",
    "In the cell below, try printing out the name of the csv_file variable you made up above. "
   ]
  },
  {
   "cell_type": "code",
   "execution_count": 21,
   "metadata": {},
   "outputs": [
    {
     "name": "stdout",
     "output_type": "stream",
     "text": [
      "raw_data_csv.csv\n"
     ]
    }
   ],
   "source": [
    "# print the name of your csv file in this cell\n"
   ]
  },
  {
   "cell_type": "markdown",
   "metadata": {},
   "source": [
    "Boom. \n",
    "\n",
    "You'll notice that the filename also has the `.csv` extenstion after the name. Obviously if it was an excel workbook the extension would be `.xlsx` and if it was a jupyter notebook it would be `.ipynb`. In the context of `Path` objects, these are called the `suffix` of a file (folders don't have `suffixes`) and you can call them with the syntax \n",
    "\n",
    "```\n",
    "file_variable.suffix\n",
    "```\n",
    "\n",
    "In the cell below, print out the `suffix` of your file"
   ]
  },
  {
   "cell_type": "code",
   "execution_count": null,
   "metadata": {},
   "outputs": [],
   "source": [
    "# print the name of your csv file in this cell\n"
   ]
  },
  {
   "cell_type": "markdown",
   "metadata": {},
   "source": [
    "Both of these `attributes` return `strings` that you can perform all the usual `string operations` on, and we know how much you love those (honestly, it's endearing). But we can also also access the `path` to the folder your file (or subfolder) is in by calling the `parent`.\n",
    "```\n",
    "file_or_folder.parent\n",
    "```\n",
    "\n",
    "In the cell below, print out the `parent` of the the csv file"
   ]
  },
  {
   "cell_type": "code",
   "execution_count": null,
   "metadata": {},
   "outputs": [],
   "source": [
    "#print the parent of the csv file\n"
   ]
  },
  {
   "cell_type": "markdown",
   "metadata": {},
   "source": [
    "Rather than being a `string` object, this `parent` object is also a `Path` and what is useful about this is we can use some of `pathlibs` built in functionality to make our lives a little easier.\n",
    "\n",
    "For example, we can add to an existing path by using `syantax` that is very similar to `string concatenation` oniy instead of using `+` to join to strings together, we can use `/` (forwardslash) to join a `string` onto the end of the `parent Path` for when we want to save a new file in the same folder as an existing file **without overwriting our old file**. \n",
    "\n",
    "```\n",
    "new_file_path = old_file_path.parent / 'new_filename.filetype'\n",
    "```\n",
    "\n",
    "So what we've done there is taken the `parent folder` of our original `Path` and added a new `.name` (which includes with `suffix`). We've also saved this as a `variable` so we can call it if we need it. \n",
    "\n",
    "We can combine this `syntax` with the `syntax` we use to save dataframes\n",
    "\n",
    "```\n",
    "#to save a csv file\n",
    "dataframe.to_csv(old_file_path.parent/'new_file.csv') # pay close attention to the syntax\n",
    "```\n",
    "\n",
    "In the cell below, try saving `movies_df` to the `parent` of the `csv_file` `Path`. \n",
    "\n",
    "You should see the file show up in the 'data' sub-folder of our programming club directory. \n",
    "\n",
    "You can open it using excel, and you can also view it in vscode. Take a look at it.  \n"
   ]
  },
  {
   "cell_type": "code",
   "execution_count": null,
   "metadata": {},
   "outputs": [],
   "source": [
    "# save the movies df into a csv file\n",
    "# call the file 'movies.csv'\n"
   ]
  },
  {
   "cell_type": "markdown",
   "metadata": {},
   "source": [
    "When you open up the movies.csv file you might notice that there is an extra column at the start of the dataframe. Like so\n",
    "\n",
    "|    |   Unnamed: 0 | Participant Name        | Movie Title            | Genre       |   Year of Release |   ImdB Score |   Rotten Tomatoes Score | Gender of Lead   |\n",
    "|---:|-------------:|:------------------------|:-----------------------|:------------|------------------:|-------------:|------------------------:|:-----------------|\n",
    "|  0 |            0 | John Carpenter          | The Thing              | Horror      |              1982 |           82 |                      82 | Male             |\n",
    "|  1 |            1 | Nicolas Winding Refn    | Drive                  | Action      |              2011 |           78 |                      93 | Male             |\n",
    "|  2 |            2 | Matthijs van Heijningen | The Thing              | Horror      |              2011 |           62 |                      34 | Female           |\n",
    "|  3 |            3 | Dennis Villanueve       | Arrival                | Sci-Fi      |              2016 |           79 |                      94 | Male             |\n",
    "|  4 |            4 | Coen Brothers           | No Country for Old Men | Drama       |              2007 |           82 |                      93 | Female           |\n",
    "|  5 |            5 | Kelly Asbury            | Shrek 2                | Comedy      |              2004 |           73 |                      89 | Orgre            |\n",
    "|  6 |            6 | Edgar Wright            | Hot Fuzz               | Comedy      |              2007 |           78 |                      91 | Male             |\n",
    "|  7 |            7 | Coen Brothers           | Fargo                  | Dark Comedy |              1996 |           81 |                      94 | Male             |\n",
    "\n",
    " This is the `index` of the dataframe. Often however, we do not want to save the `index` when we save a dataset (sometimes we really do) and so we need to use a `keyword argument` in the `df.to_csv()` method \n",
    "\n",
    "```\n",
    "df.to_csv(path, index = False)#index is a keyword argument, setting it to false means that the index will not show up as a column in the exported csv\n",
    "```\n",
    "\n",
    "In the cell below save the `movies_df` again, but this time call it `movies_2.csv` and set `index =False`."
   ]
  },
  {
   "cell_type": "code",
   "execution_count": null,
   "metadata": {},
   "outputs": [],
   "source": [
    "#Save the movies df without the index column"
   ]
  },
  {
   "cell_type": "markdown",
   "metadata": {},
   "source": [
    "Unless you have decided to use a different column as the index (like maybe the participant_id) or you have a `multiindex` dataframe (look it up, they are cool) you will rarely want to include the     `index` as a column in an exported dataframe, so setting `index = False` is a reasonable habbit to get into. Other wise, you will always have to `drop` the first column, or do some kind of `iloc` selection when you import your cleaned dataframe for analysis. \n",
    "\n",
    "\n",
    "Now, here comes the big practice bit. \n",
    "\n",
    "For the rest of this session, we want you to import the SPSS version of the raw data (raw_data_spss.sav) into a pandas dataframe, clean it up (select only the needed columns, clean up any missing or inconsistent data) and then save it to a new csv file, so we can do some simple analysis and charting next week. Remember the the `pathlib` tricks we just talked about up above when importing and saving the data. All the cleaning and importing instructions are in the notebooks from the last few weeks. \n",
    "\n",
    "**And becareful not use *overwrite* your existing files**. If you save a file with the same name it will replace your old version of the file, so don't use the same name when saving a file unless you actually do want to overwrite it (and keep in mind that you always need a copy of your raw data.)\n",
    "\n",
    "We'll be here to talk you through anything or answer questions. \n",
    "\n",
    "Best wishes, \n",
    "\n",
    "Ryan and Kev"
   ]
  }
 ],
 "metadata": {
  "kernelspec": {
   "display_name": "projectnameresearch",
   "language": "python",
   "name": "projectnameresearch"
  },
  "language_info": {
   "codemirror_mode": {
    "name": "ipython",
    "version": 3
   },
   "file_extension": ".py",
   "mimetype": "text/x-python",
   "name": "python",
   "nbconvert_exporter": "python",
   "pygments_lexer": "ipython3",
   "version": "3.9.6"
  },
  "orig_nbformat": 4
 },
 "nbformat": 4,
 "nbformat_minor": 2
}
