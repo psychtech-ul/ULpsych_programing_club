{
 "cells": [
  {
   "cell_type": "markdown",
   "metadata": {},
   "source": [
    "# Week 2 - Getting to work\n",
    "\n",
    "Welcome back to week 2 of python for SPSS users. Thank you for joining us again. This week we're going to start actually doing things in python, learning about functions, methods, and loops. But first...\n",
    "\n",
    "## Lets recap!\n",
    "\n",
    "Last week, we learned about 3 basic python datatypes:\n",
    "\n",
    " 1. Strings: This is the datatype for written language. You make one by simply enclosing text (alphanumberic caracters and punctuation) in either apostrophies or double quotes (depending on whats in the text)\n",
    " 2. Ints: This is the datatype fot whole numbers, like 4, 230000, -1 etc. \n",
    " 3. Floats: This is the datatype for numbers with a decimal point, like .05, 2.4, -3.0 etc.\n",
    "\n",
    "And we also learned about 2 basic data structures:\n",
    " 1. Lists: A list is a collection of items enclosed in square brackets [] and seperated by commas\n",
    " 2. Dicts: A dict is a collection of 'key:value' pairs enclosed in curly brackets {} seperated by commas. \n",
    "\n",
    "In the `code` cell below make 1 example of each of these datatypes, you can check each example by pressing the play button after making each example. \n"
   ]
  },
  {
   "cell_type": "code",
   "execution_count": 2,
   "metadata": {},
   "outputs": [],
   "source": [
    "# Make a single quote string below\n",
    "\n",
    "# Make a double quote strint below (include an apostrphie in the text)\n",
    "\n",
    "# Make an int below\n",
    "\n",
    "# Make a float below\n",
    "\n",
    "# Take the strings, int and float you just made and put them in a list\n",
    "\n",
    "# Now take those things and put them in a dict in the format {'string1':, 'string2':, 'int':, 'float':, 'list':}"
   ]
  },
  {
   "cell_type": "markdown",
   "metadata": {},
   "source": [
    "Well done!! You remembered how to make each type of datatype, and you make a couple of data structures, you're practically an expert pythonista already. \n",
    "\n",
    "The last thing we covered last week was the python use of the term '**variable**'. \n",
    "\n",
    "In python, a variable is essentially just a label that contains a piece of information. At the most basic level this is useful becuase it allows us to keep track of something, and work with it, using very little code. \n",
    "\n",
    "Last weeks we started with the string `'Hello World!'` but lets imagine we have a long string\n",
    "\n",
    "`\"It’s not so much what we have in this life that matters. It’s what we do with what we have. – Mr. Rogers\"`\n",
    "\n",
    "If we had to type this out everytime we wanted to interact with it it would be really unwieldy, so giving this string a short label (assigning it to a variable) would make it much easier to work with.  "
   ]
  },
  {
   "cell_type": "code",
   "execution_count": 3,
   "metadata": {},
   "outputs": [
    {
     "name": "stdout",
     "output_type": "stream",
     "text": [
      "It’s not so much what we have in this life that matters. It’s what we do with what we have. – Mr. Rogers\n"
     ]
    }
   ],
   "source": [
    "\n",
    "my_variable = \"It’s not so much what we have in this life that matters. It’s what we do with what we have. – Mr. Rogers\" # note the = between the variable name and the string, and the underscore in the name\n",
    "\n",
    "print(my_variable) # This tells the computer to write the variable out below this cell\n"
   ]
  },
  {
   "cell_type": "markdown",
   "metadata": {},
   "source": [
    "\n",
    "Notice how instead of printing out 'my_variable' python prints out the data that is contained in the variable. \n",
    "\n",
    "Couple of things to note here:\n",
    " 1. The variable name is made of alphabetic characters, not numbers or punctuation\n",
    " 2. We use underscores to seperate parts of the variable name, this is similar to variable names in SPSS\n",
    " 3. The equals sign (=) is what links the variable name to the data object\n",
    "\n",
    "In the cell below, play around a little with making some variables of your own. Make a few different variables of different types with different labels. Run the cell (press play on the cell) after you've made each variable to see if the assignment has worked properly.\n",
    "\n",
    "Oh also `# Don't forget to use comments` (seriously.... seriously)."
   ]
  },
  {
   "cell_type": "code",
   "execution_count": 4,
   "metadata": {},
   "outputs": [],
   "source": [
    "# Make a few variables in this cell, don't forget to run the cell after making each variable to make sure it works."
   ]
  },
  {
   "cell_type": "markdown",
   "metadata": {},
   "source": [
    "OK, thats enough recapping, it's time to actually start working with some data. \n",
    "\n",
    "Even though most people think about numbers when programming comes up, and indeed we most often work with numerical data in SPSS, we're going to start with strings. This allows us to demonstrate some really useful basic principles of python that apply to other datatypes, without giving people the excuse that they 'hate maths'. You can all write essays, which means you can all work with language. So let's work with language.\n",
    "\n",
    "## Indexing\n",
    "The index of a particular object is it's possition in a collection of objects. That might seem like jargon (and in fairness it kind of is) but let's use a string as an example to clear that up. \n",
    "\n",
    "```\n",
    "m = 'hello world'\n",
    "```\n",
    "\n",
    "You already know that a string is an object made of alphanumeric characters enclosed in either single or double quotes, so in general we think of a string as an object unto itself, but, we can also think as a string as a collection of individual characters, each character (including spaces) can also be thought of as an object (essentially, python can treat a `string` as a `list` of alphanumeric objects enclosed in quotes instead of square brackets). \n",
    "\n",
    "The variable `m` that we assigned just above is a string which is 11 characters long. Each of those characters has a position within the string and this position is identified with a number. You might think that in `m` the position of the first character ('h') would be 1, but python is what's called a '0-indexed language', this means that we start counting positions from 0 instead of 1, this is demonstrated in the table below. \n",
    "\n",
    "\n",
    "|index | 0 | 1 | 2 | 3 | 4 | 5 | 6 | 7 | 8 | 9 | 10 |\n",
    "|:-----|:--|:-:|:-:|:-:|:-:|:-:|:-:|:-:|:-:|:-:|--:|\n",
    "|char  | h | e | l | l | o |   | w | o | r | l | d |\n",
    "\n",
    "This is quite powerful because it allows us to do things like search *within* an object, or pick an object apart. Let's start with just picking out the first character ('h') in `m`, it's really easy. "
   ]
  },
  {
   "cell_type": "code",
   "execution_count": 5,
   "metadata": {},
   "outputs": [
    {
     "data": {
      "text/plain": [
       "'h'"
      ]
     },
     "execution_count": 5,
     "metadata": {},
     "output_type": "execute_result"
    }
   ],
   "source": [
    "m = 'hello world' #assining 'hello world' to the variable m\n",
    "\n",
    "m[0]# Note the square brackets (like a list) and the int 0"
   ]
  },
  {
   "cell_type": "markdown",
   "metadata": {},
   "source": [
    "The first line in the cell above you already know, we've just taken a `string` variable ('hello world') and given it the lable (assigned it to the `variable`) `m`. \n",
    "\n",
    "The second line is the magic. \n",
    "\n",
    "Remember that `m` represents our string so python knows that we are working on that parituclar object. Immediately after `m` we open square brackets `[` (like we used when we were making a list) then we put in the `index position` (represented by a number, look back up at the table above) and then we closed the square brackets `]`. This is the basic `syntax` for finding an object in a collection of objects. \n",
    "\n",
    "[`syntax` basically referes to a pattern of language, so when we use `syntax` in the context of code we just mean the pattern of code that you use to do particular thing. Basically, learning to code is just learning the patterns of a particular language.]\n",
    "\n",
    "So we can do the same thing with `lists`, and a very similar thing with `dicts` and full datasets (`DataFrames`, more on this in future sessions). \n",
    "\n",
    "lets take a list \n",
    "\n",
    "`beatles = ['John', 'Paul', 'George', 'Ringo']`\n",
    "\n",
    "This list is indexed exactly the same way as `m`\n",
    "\n",
    "|index | 0 | 1 | 2 | 3 |\n",
    "|:-----|:-:|:-:|:-:|:-:|\n",
    "|item  | 'John' | 'Paul' | 'George' | 'Ringo' |\n",
    "\n",
    "So we can use exactly the same `syntax` to find out what is at a particular `index` in the list. \n"
   ]
  },
  {
   "cell_type": "code",
   "execution_count": 6,
   "metadata": {},
   "outputs": [
    {
     "data": {
      "text/plain": [
       "'John'"
      ]
     },
     "execution_count": 6,
     "metadata": {},
     "output_type": "execute_result"
    }
   ],
   "source": [
    "beatles = ['John', 'Paul', 'George', 'Ringo'] #creating the list, and assigning it the variable beatles\n",
    "\n",
    "beatles[0]# getting the first object from the list beatles"
   ]
  },
  {
   "cell_type": "markdown",
   "metadata": {},
   "source": [
    "In the cell below, make a string and a list, assign both to a variable and try using the `syntax` we've just spoken about to pick out one of the elements of each.\n",
    "\n",
    "(again, don't forget to comment the code)"
   ]
  },
  {
   "cell_type": "code",
   "execution_count": 7,
   "metadata": {},
   "outputs": [],
   "source": [
    "# Make your string varible below, just one word, maybe 5 letters long since wordle is a thing\n",
    "\n",
    "# Make your list varible below, put at least 5 items in your list, remember the can be ints, floats, strings, etc, so play around, or don't, I'm not your boss\n",
    "\n",
    "# Try selecting the 3rd character in your string (remember we start counting from 0)\n",
    "\n",
    "# Try selecting the 4th item in your list (again starting from 0)"
   ]
  },
  {
   "cell_type": "markdown",
   "metadata": {},
   "source": [
    "Well done, you just worked with indexes for the first time. Although examples above are pretty simple, they are the foundation of some pretty useful tools in python, again imagine you had a really long list, or a very ong string (or a big dataset), you can use similar syntax to engage with single parts of that object, you can move them around or you can save them to a seperate variable..."
   ]
  },
  {
   "cell_type": "code",
   "execution_count": 8,
   "metadata": {},
   "outputs": [
    {
     "name": "stdout",
     "output_type": "stream",
     "text": [
      "d\n",
      "George\n"
     ]
    }
   ],
   "source": [
    "# run this cell and see if you can figure out what is going on, write in your own comments to explain the code (really look at the first line of code, you can go back up to see what m is if you need to)\n",
    "\n",
    "j = m[-1]\n",
    "k = beatles[2] \n",
    "\n",
    "print(j)\n",
    "print(k)"
   ]
  },
  {
   "cell_type": "markdown",
   "metadata": {},
   "source": [
    "We did a couple of things there, and one is kind of sneaky (sorry/not sorry). \n",
    "\n",
    "At the simplest level, we used our `indexing syntax` to extract a character from a string and *store it as a new variable*, then we used the same `syntax` to save 1 of the elements from our list sperately. Then we just got the computer to print out each of those new variables. It's worth noting that we haven't acctually changed the list or string, when we say we've 'extracted' a part of them we don't mean that we have literally just pulled them out, we just mean we've selected those bits of information and given us a way to access them easily, but the original items are still intact, run the cell below to see. "
   ]
  },
  {
   "cell_type": "code",
   "execution_count": 9,
   "metadata": {},
   "outputs": [
    {
     "name": "stdout",
     "output_type": "stream",
     "text": [
      "hello world\n",
      "['John', 'Paul', 'George', 'Ringo']\n"
     ]
    }
   ],
   "source": [
    "print(m)\n",
    "print(beatles)"
   ]
  },
  {
   "cell_type": "markdown",
   "metadata": {},
   "source": [
    "So the original object is undisturbed when we do this, but we can capture part of it, work with it, and then if we want to we can update the original object again (don't worry about updating for now, but it can be done.)\n",
    "\n",
    "...\n",
    "\n",
    "So....did you spot the sneaky thing we did when we created the variable `j`? \n",
    "\n",
    "**Didja?**\n",
    "\n",
    "We used `-1` as the index to get the last letter of `'hello world'`... 'd'. This is called negative indexing and it allows us to get the last (or second last and so on) item from a list or string *without having to know how many items are in the list*.\n",
    "\n",
    "**Awesome**, you probably think it's not, but believe me... it is, it inspires awe. \n",
    "\n",
    "OK so, we know that `m` is 11 characters long (remember that the space is also a character) so we could just use \n",
    "\n",
    "`m[10] # rememer that we count from 0` \n",
    "\n",
    "to get the last character, but if we don't know the length of the object (or can't be bothered to remember how long it is, lets be real here) we can use\n",
    "\n",
    "`m[-1] # using negative indexing instead of the 'actual' index postion` \n",
    "\n",
    "In the cell below, play around with `indexing`, positive (starting from 0) and negative (starting from minus 1) using the list and string variables you made earlier. You don't have to make them again, the `code cells` talk to each other so just make sure you've run all the cells above (start with the first one and make your way down in order). "
   ]
  },
  {
   "cell_type": "code",
   "execution_count": 13,
   "metadata": {},
   "outputs": [],
   "source": [
    "# use this cell to play around with indexing, you can run the cell everytime you make a change\n",
    "# you might need to use 'print()' if you want to display a result when the cell runs\n",
    "# don't forget to comment your code\n",
    "\n",
    "\n",
    "\n",
    "\n",
    "\n"
   ]
  }
 ],
 "metadata": {
  "interpreter": {
   "hash": "da3e0b0f4dc5d44db4d7e0a7396f401911ef6d0325c18f6517bd5ad3af6d2cfb"
  },
  "kernelspec": {
   "display_name": "Python 3.9.6 64-bit ('research': venv)",
   "language": "python",
   "name": "python3"
  },
  "language_info": {
   "codemirror_mode": {
    "name": "ipython",
    "version": 3
   },
   "file_extension": ".py",
   "mimetype": "text/x-python",
   "name": "python",
   "nbconvert_exporter": "python",
   "pygments_lexer": "ipython3",
   "version": "3.9.6"
  },
  "orig_nbformat": 4
 },
 "nbformat": 4,
 "nbformat_minor": 2
}
