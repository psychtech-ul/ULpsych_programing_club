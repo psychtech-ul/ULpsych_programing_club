{
 "cells": [
  {
   "cell_type": "markdown",
   "metadata": {},
   "source": [
    "# Week 2 - Getting to work\n",
    "\n",
    "Welcome back to week 2 of python for SPSS users. Thank you for joining us again. This week we're going to start actually doing things in python, learning about functions, methods, and loops. But first...\n",
    "\n",
    "## Lets recap!\n",
    "\n",
    "Last week, we learned about 3 basic python datatypes:\n",
    "\n",
    " 1. Strings: This is the datatype for written language. You make one by simply enclosing text (alphanumberic caracters and punctuation) in either apostrophies or double quotes (depending on whats in the text)\n",
    " 2. Ints: This is the datatype fot whole numbers, like 4, 230000, -1 etc. \n",
    " 3. Floats: This is the datatype for numbers with a decimal point, like .05, 2.4, -3.0 etc.\n",
    "\n",
    "And we also learned about 2 basic data structures:\n",
    " 1. Lists: A list is a collection of items enclosed in square brackets [] and seperated by commas\n",
    " 2. Dicts: A dict is a collection of 'key:value' pairs enclosed in curly brackets {} seperated by commas. \n",
    "\n",
    "In the `code` cell below make 1 example of each of these datatypes, you can check each example by pressing the play button after making each example. \n"
   ]
  },
  {
   "cell_type": "code",
   "execution_count": null,
   "metadata": {},
   "outputs": [],
   "source": [
    "# Make a single quote string below\n",
    "\n",
    "# Make a double quote strint below (include an apostrphie in the text)\n",
    "\n",
    "# Make an int below\n",
    "\n",
    "# Make a float below\n",
    "\n",
    "# Take the strings, int and float you just made and put them in a list\n",
    "\n",
    "# Now take those things and put them in a dict in the format {'string1':, 'string2':, 'int':, 'float':, 'list':}"
   ]
  },
  {
   "cell_type": "markdown",
   "metadata": {},
   "source": [
    "Well done!! You remembered how to make each type of datatype, and you make a couple of data structures, you're practically an expert pythonista already. \n",
    "\n",
    "The last thing we covered last week was the python use of the term '**variable**'. \n",
    "\n",
    "In python, a variable is essentially just a label that contains a piece of information. At the most basic level this is useful becuase it allows us to keep track of something, and work with it, using very little code. \n",
    "\n",
    "Last weeks we started with the string `'Hello World!'` but lets imagine we have a long string\n",
    "\n",
    "`\"It’s not so much what we have in this life that matters. It’s what we do with what we have. – Mr. Rogers\"`\n",
    "\n",
    "If we had to type this out everytime we wanted to interact with it it would be really unwieldy, so giving this string a short label (assigning it to a variable) would make it much easier to work with.  "
   ]
  },
  {
   "cell_type": "code",
   "execution_count": null,
   "metadata": {},
   "outputs": [],
   "source": [
    "\n",
    "my_variable = \"It’s not so much what we have in this life that matters. It’s what we do with what we have. – Mr. Rogers\" # note the = between the variable name and the string, and the underscore in the name\n",
    "\n",
    "print(my_variable) # This tells the computer to write the variable out below this cell\n"
   ]
  },
  {
   "cell_type": "markdown",
   "metadata": {},
   "source": [
    "\n",
    "Notice how instead of printing out 'my_variable' python prints out the data that is contained in the variable. \n",
    "\n",
    "Couple of things to note here:\n",
    " 1. The variable name is made of alphabetic characters, not numbers or punctuation\n",
    " 2. We use underscores to seperate parts of the variable name, this is similar to variable names in SPSS\n",
    " 3. The equals sign (=) is what links the variable name to the data object\n",
    "\n",
    "In the cell below, play around a little with making some variables of your own. Make a few different variables of different types with different labels. Run the cell (press play on the cell) after you've made each variable to see if the assignment has worked properly.\n",
    "\n",
    "Oh also `# Don't forget to use comments` (seriously.... seriously)."
   ]
  },
  {
   "cell_type": "code",
   "execution_count": null,
   "metadata": {},
   "outputs": [],
   "source": [
    "# Make a few variables in this cell, don't forget to run the cell after making each variable to make sure it works."
   ]
  },
  {
   "cell_type": "markdown",
   "metadata": {},
   "source": [
    "OK, thats enough recapping, it's time to actually start working with some data. \n",
    "\n",
    "Even though most people think about numbers when programming comes up, and indeed we most often work with numerical data in SPSS, we're going to start with strings. This allows us to demonstrate some really useful basic principles of python that apply to other datatypes, without giving people the excuse that they 'hate maths'. You can all write essays, which means you can all work with language. So let's work with language.\n",
    "\n",
    "## Indexing\n",
    "The index of a particular object is it's possition in a collection of objects. That might seem like jargon (and in fairness it kind of is) but let's use a string as an example to clear that up. \n",
    "\n",
    "```\n",
    "m = 'hello world'\n",
    "```\n",
    "\n",
    "You already know that a string is an object made of alphanumeric characters enclosed in either single or double quotes, so in general we think of a string as an object unto itself, but, we can also think as a string as a collection of individual characters, each character (including spaces) can also be thought of as an object (essentially, a string is just a `list` of alphanumeric objects enclosed in quotes instead of square brackets). \n",
    "\n",
    "The variable `m` that we assigned just above is a string which is 11 characters long. Each of those characters has a position within the string and this position is identified with a number. You might think that in `m` the position of the first character would be 1 but python is what's called a '0-indexed language', this means that we start counting positions from 0 instead of 1\n",
    "\n",
    "\n",
    "|index | 0 | 1 | 2 | 3 | 4 | 5 | 6 | 7 | 8 | 9 | 10 |\n",
    "|:-----|:--|:-:|:-:|:-:|:-:|:-:|:-:|:-:|:-:|:-:|--:|\n",
    "|char  | h | e | l | l | o |   | w | o | r | l | d |\n",
    "\n",
    "\n"
   ]
  },
  {
   "cell_type": "code",
   "execution_count": 16,
   "metadata": {},
   "outputs": [
    {
     "name": "stdout",
     "output_type": "stream",
     "text": [
      "lo\n"
     ]
    }
   ],
   "source": [
    "print('hello world'[3:5])"
   ]
  }
 ],
 "metadata": {
  "interpreter": {
   "hash": "da3e0b0f4dc5d44db4d7e0a7396f401911ef6d0325c18f6517bd5ad3af6d2cfb"
  },
  "kernelspec": {
   "display_name": "Python 3.9.6 64-bit ('research': venv)",
   "language": "python",
   "name": "python3"
  },
  "language_info": {
   "codemirror_mode": {
    "name": "ipython",
    "version": 3
   },
   "file_extension": ".py",
   "mimetype": "text/x-python",
   "name": "python",
   "nbconvert_exporter": "python",
   "pygments_lexer": "ipython3",
   "version": "3.9.6"
  },
  "orig_nbformat": 4
 },
 "nbformat": 4,
 "nbformat_minor": 2
}
