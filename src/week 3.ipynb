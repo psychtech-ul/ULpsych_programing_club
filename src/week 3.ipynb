{
 "cells": [
  {
   "cell_type": "markdown",
   "metadata": {},
   "source": [
    "# Week 3 - Scoping for the love of loops. \n",
    "\n",
    "Welcome back to the python for SPSS users sessions. This week we're going to talk about `loops`, python `modules`, and something called `scope`. But first...\n",
    "\n",
    "## Let's recap: Strings operations (1/3)\n",
    "\n",
    "\n",
    "Last week we did a lot of stuff with strings, we combined them (`concatenation):"
   ]
  },
  {
   "cell_type": "code",
   "execution_count": 2,
   "metadata": {},
   "outputs": [
    {
     "name": "stdout",
     "output_type": "stream",
     "text": [
      "HelloWorld\n",
      "Hello World!\n"
     ]
    }
   ],
   "source": [
    "a = 'Hello' #assigning a string to a variable\n",
    "b = 'World' #assigning a string to a variable\n",
    "\n",
    "print(a + b)# concatenating the 2 strings\n",
    "print(a + ' ' + b + '!')# adding a space and an exclamaition to make the strings print in a more human readable way"
   ]
  },
  {
   "cell_type": "markdown",
   "metadata": {},
   "source": [
    "We multiplied them (`replication`):"
   ]
  },
  {
   "cell_type": "code",
   "execution_count": 5,
   "metadata": {},
   "outputs": [
    {
     "name": "stdout",
     "output_type": "stream",
     "text": [
      "HelloHelloHelloHelloHelloHelloHelloHello\n"
     ]
    }
   ],
   "source": [
    "# remember that we can only multiply strings by ints, not floats\n",
    "print(a*8 )# getting python to print 'Hello' 8 times"
   ]
  },
  {
   "cell_type": "markdown",
   "metadata": {},
   "source": [
    "And we learned an easy and powerful way to `format` strings (`f-strings`):"
   ]
  },
  {
   "cell_type": "code",
   "execution_count": 9,
   "metadata": {},
   "outputs": [
    {
     "name": "stdout",
     "output_type": "stream",
     "text": [
      "Hello, is it me you're looking for?\n"
     ]
    }
   ],
   "source": [
    "c = 'me' #assigning a string to a variable\n",
    "\n",
    "d = f\"{a}, is it {c} you're looking for?\"# assigning a formatted string to a variable, the f-string includes the variables a and c\n",
    "\n",
    "print(d)"
   ]
  },
  {
   "cell_type": "markdown",
   "metadata": {},
   "source": [
    "The `f` and the `{}` in `f-strings` are really powerful, they let you run python within a sentence of human readable text. From the point of view of people writing results sections, this can be really powerful. Have a read through the cell below and before you run it and take a minute to think about how you might use it (try not to get overly exci... no actually get excited)."
   ]
  },
  {
   "cell_type": "code",
   "execution_count": 6,
   "metadata": {},
   "outputs": [
    {
     "name": "stdout",
     "output_type": "stream",
     "text": [
      "The participant scores range from 1 to 8 (M = 4.58, SD = 2.41).\n"
     ]
    }
   ],
   "source": [
    "from statistics import mean, stdev# ignore this for now\n",
    "\n",
    "scores = [7, 4, 6, 3, 7, 7, 4, 3, 3, 2, 1, 1, 1, 6, 7, 8, 8, 5, 4]# imagine this is a column in a data set\n",
    "\n",
    "# now check out this magic\n",
    "print(f'The participant scores range from {min(scores)} to {max(scores)} (M = {round(mean(scores),2)}, SD = {round(stdev(scores),2)}).')"
   ]
  },
  {
   "cell_type": "markdown",
   "metadata": {},
   "source": [
    "**See?!?** unless you really love copying and pasting numbers from spss output into word documents that collection of code should be really interesting to you. \n",
    "\n",
    "So, in the cell below make a couple of `string` variables and put them in an `f-string` (make it funny, might as well have a laugh)"
   ]
  },
  {
   "cell_type": "code",
   "execution_count": null,
   "metadata": {},
   "outputs": [],
   "source": [
    "# make your first string below\n",
    "\n",
    "\n",
    "# and make the second one below\n",
    "\n",
    "\n",
    "# and now print out an f-string with those variables below"
   ]
  },
  {
   "cell_type": "markdown",
   "metadata": {},
   "source": [
    "These are just simple examples of the kinds of things you can do with `strings` and there are more that we'll cover (especially when cleaning data) but for right now, the `f-string` is something you should keep in mind. \n",
    "\n",
    "## Let's recap: Indexing (2/3)\n",
    "\n",
    "\n",
    "Remember that the `index` of an item is it's position *within an object*, and that for lists and strings we represent that position with a number. \n",
    "\n",
    "`example of 'str' index`\n",
    "|index | 0 | 1 | 2 | 3 | 4 | 5 | 6 | 7 | 8 | 9 | 10 |\n",
    "|:-----|:--|:-:|:-:|:-:|:-:|:-:|:-:|:-:|:-:|:-:|--:|\n",
    "|char  | h | e | l | l | o |   | w | o | r | l | d |\n",
    "\n",
    "\n",
    "\n",
    "`example of 'list' index`\n",
    "|index | 0 | 1 | 2 | 3 |\n",
    "|:-----|:-:|:-:|:-:|:-:|\n",
    "|item  | 'John' | 'Paul' | 'George' | 'Ringo' |\n",
    "\n",
    "When we want to extract some thing from an object we use the synax:\n",
    "\n",
    "`object[index_number]`\n",
    "\n",
    "In the cell below, use that syntax to get print out the _*second*_ and _*second-last*_ character of the first string variable you made earlier.\n",
    "\n",
    "If you want to be really fancy, you could pop them into an `f-string`. It's good practice. "
   ]
  },
  {
   "cell_type": "code",
   "execution_count": null,
   "metadata": {},
   "outputs": [],
   "source": [
    "# play around with this syntax here, you can use f-strings if you like\n",
    "# you could store the requested characters as variables before you make the f-string\n",
    "# or you could just use the syntax within the {}s in the f-string\n",
    "# have fun"
   ]
  },
  {
   "cell_type": "markdown",
   "metadata": {},
   "source": [
    "With `dicts` its just a little different, we use the `key` of the `key:value` pair instead of a number inside the [], like this:\n",
    "\n",
    "```\n",
    "my_dict = {'first_name':'Grampton', 'last_name':'St.Rumpterfraple', 'movie':'The Duchess Approves'}\n",
    "\n",
    "print(my_dict['movie'])\n",
    "```\n",
    "\n",
    "Again these are very simple examples, but they for the basis of something really powerful. As long as you have the general `syntax` in your mind you can use it in lots of different ways. "
   ]
  },
  {
   "cell_type": "markdown",
   "metadata": {},
   "source": [
    "## Let's recap: Functions (3/3)\n",
    "\n",
    "The last thing that we worked on last week was `functions`. \n",
    "\n",
    "We talked about the fact that a `function` can be thought of a way of wrapping up a lot of code in a short and easy to type statement, like the `print()` and `type()` functions. The  `syntax` of using functions is pretty simple, but it might be worth taking a few minutes to break down that syntax a little more. \n",
    "\n",
    "\n",
    "```\n",
    "print('Hello world')\n",
    "```\n",
    "\n",
    "You already know that he `print` bit is the name of the `function` and that this is followed by a pair of brackets `()`. The brackets are what actually tell python to exectute the `function`. The thing (or things) *between* the brackets is called an `argument`, so in the example above `'Hello world'` is the `argument` for the `print()` function. All of the premade `functions` we've looked at all take 1 argument. \n",
    "\n",
    "```\n",
    "print('Hello world')\n",
    "type('Hello world')\n",
    "```\n",
    "\n",
    "However, each specific `function` will have a required number of `arguments` and you can look them up as you need them. Don't worry about it too much because you can *always* look up a specific `function` when you need it, and the more you use a particular one, the better you'll remember it.\n",
    "\n",
    "### Defining functions\n",
    "\n",
    "Python has a whole world of functions, and there are more being added everyday (don't panic you don't need to know them all) but you can also make your own with a pretty simple `syntax`. We demonstrated two versions of this `syntax` last week. \n",
    "\n",
    "The first example just runs the same code everytime it's called so doesn't require any `arguments`"
   ]
  },
  {
   "cell_type": "code",
   "execution_count": 1,
   "metadata": {},
   "outputs": [],
   "source": [
    "def my_function_1(): # we're not putting a placeholder variable in this cause we don't need it\n",
    "    # all the lines below are the first one are indented by 1 tab (or 4 spaces, but sersiously, just use 1 tab)\n",
    "    print('This')# We're splitting the functionality up into multiple lines\n",
    "    print('Function')\n",
    "    print('Works')"
   ]
  },
  {
   "cell_type": "markdown",
   "metadata": {},
   "source": [
    "In this second example we want the `function` to be able to operate on a `variable` so we need to use a placeholder when we define it "
   ]
  },
  {
   "cell_type": "code",
   "execution_count": 20,
   "metadata": {},
   "outputs": [],
   "source": [
    "def my_function_2(placeholder):# notice that this line is almost exactly the same except for the placeholder, \n",
    "    # again, all the lines are indented\n",
    "    print(f'The variable is: {placeholder}')# using an f-string to print out the variable\n",
    "    print(f'it is a {type(placeholder)} object')"
   ]
  },
  {
   "cell_type": "markdown",
   "metadata": {},
   "source": [
    "So now that we have defined these two functions in the cells above we can call them in subsequent cells without having to type out all that code again."
   ]
  },
  {
   "cell_type": "code",
   "execution_count": 16,
   "metadata": {},
   "outputs": [
    {
     "name": "stdout",
     "output_type": "stream",
     "text": [
      "This\n",
      "Function\n",
      "Works\n"
     ]
    }
   ],
   "source": [
    "my_function_1()"
   ]
  },
  {
   "cell_type": "code",
   "execution_count": 19,
   "metadata": {},
   "outputs": [
    {
     "name": "stdout",
     "output_type": "stream",
     "text": [
      "The variable is: 6\n",
      "it is a <class 'int'> object\n"
     ]
    }
   ],
   "source": [
    "my_function_2(6)"
   ]
  },
  {
   "cell_type": "code",
   "execution_count": 13,
   "metadata": {},
   "outputs": [
    {
     "name": "stdout",
     "output_type": "stream",
     "text": [
      "The variable is: Banana\n",
      "it is a <class 'str'> object\n"
     ]
    }
   ],
   "source": [
    "my_function_2('Banana')"
   ]
  },
  {
   "cell_type": "code",
   "execution_count": 14,
   "metadata": {},
   "outputs": [
    {
     "name": "stdout",
     "output_type": "stream",
     "text": [
      "The variable is: 24.5\n",
      "it is a <class 'float'> object\n"
     ]
    }
   ],
   "source": [
    "z = 24.5\n",
    "\n",
    "my_function_2(z)"
   ]
  },
  {
   "cell_type": "markdown",
   "metadata": {},
   "source": [
    "We can also define a function that takes multiple arguments"
   ]
  },
  {
   "cell_type": "code",
   "execution_count": 21,
   "metadata": {},
   "outputs": [],
   "source": [
    "def my_function_3(a,b): #we are using two placeholders here\n",
    "    print(a*b)# this function takes numbers and multiplies them\n"
   ]
  },
  {
   "cell_type": "code",
   "execution_count": 23,
   "metadata": {},
   "outputs": [
    {
     "name": "stdout",
     "output_type": "stream",
     "text": [
      "6\n",
      "224.00000000000003\n"
     ]
    }
   ],
   "source": [
    "my_function_3(2,3)\n",
    "my_function_3(100, 2.24)"
   ]
  }
 ],
 "metadata": {
  "interpreter": {
   "hash": "31e930d7b51ee8dd4650f933a6f91200f5f0ee9c6baf8863a59e9679efb99ab3"
  },
  "kernelspec": {
   "display_name": "Python 3.10.2 64-bit ('3.10.2': pyenv)",
   "name": "python3"
  },
  "language_info": {
   "codemirror_mode": {
    "name": "ipython",
    "version": 3
   },
   "file_extension": ".py",
   "mimetype": "text/x-python",
   "name": "python",
   "nbconvert_exporter": "python",
   "pygments_lexer": "ipython3",
   "version": "3.9.6"
  },
  "orig_nbformat": 4
 },
 "nbformat": 4,
 "nbformat_minor": 2
}
