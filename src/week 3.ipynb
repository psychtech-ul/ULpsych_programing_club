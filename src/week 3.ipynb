{
 "cells": [
  {
   "cell_type": "markdown",
   "metadata": {},
   "source": [
    "# Week 3 - Scoping for the love of loops. \n",
    "\n",
    "Welcome back to the python for SPSS users sessions. This week we're going to talk about `loops`, python `modules`, and something called `scope`. But first...\n",
    "\n",
    "## Let's recap (1/)\n",
    "\n",
    "### Strings operations\n",
    "\n",
    "Last week we did a lot of stuff with strings, we combined them (`concatenation):"
   ]
  },
  {
   "cell_type": "code",
   "execution_count": 2,
   "metadata": {},
   "outputs": [
    {
     "name": "stdout",
     "output_type": "stream",
     "text": [
      "HelloWorld\n",
      "Hello World!\n"
     ]
    }
   ],
   "source": [
    "a = 'Hello' #assigning a string to a variable\n",
    "b = 'World' #assigning a string to a variable\n",
    "\n",
    "print(a + b)# concatenating the 2 strings\n",
    "print(a + ' ' + b + '!')# adding a space and an exclamaition to make the strings print in a more human readable way"
   ]
  },
  {
   "cell_type": "markdown",
   "metadata": {},
   "source": [
    "We multiplied them (`replication`):"
   ]
  },
  {
   "cell_type": "code",
   "execution_count": 5,
   "metadata": {},
   "outputs": [
    {
     "name": "stdout",
     "output_type": "stream",
     "text": [
      "HelloHelloHelloHelloHelloHelloHelloHello\n"
     ]
    }
   ],
   "source": [
    "# remember that we can only multiply strings by ints, not floats\n",
    "print(a*8 )# getting python to print 'Hello' 8 times"
   ]
  },
  {
   "cell_type": "markdown",
   "metadata": {},
   "source": [
    "And we learned an easy and powerful way to `format` strings (`f-strings`):"
   ]
  },
  {
   "cell_type": "code",
   "execution_count": 9,
   "metadata": {},
   "outputs": [
    {
     "name": "stdout",
     "output_type": "stream",
     "text": [
      "Hello, is it me you're looking for?\n"
     ]
    }
   ],
   "source": [
    "c = 'me' #assigning a string to a variable\n",
    "\n",
    "d = f\"{a}, is it {c} you're looking for?\"# assigning a formatted string to a variable, the f-string includes the variables a and c\n",
    "\n",
    "print(d)"
   ]
  },
  {
   "cell_type": "markdown",
   "metadata": {},
   "source": [
    "The `f` and the `{}` in `f-strings` are really powerful, they let you run python within a sentence of human readable text. From the point of view of people writing results sections, this can be really powerful. Have a read through the cell below and before you run it and take a minute to think about how you might use it (try not to get overly exci... no actually get excited)."
   ]
  },
  {
   "cell_type": "code",
   "execution_count": 6,
   "metadata": {},
   "outputs": [
    {
     "name": "stdout",
     "output_type": "stream",
     "text": [
      "The participant scores range from 1 to 8 (M = 4.58, SD = 2.41).\n"
     ]
    }
   ],
   "source": [
    "from statistics import mean, stdev# ignore this for now\n",
    "\n",
    "scores = [7, 4, 6, 3, 7, 7, 4, 3, 3, 2, 1, 1, 1, 6, 7, 8, 8, 5, 4]# imagine this is a column in a data set\n",
    "\n",
    "# now check out this magic\n",
    "print(f'The participant scores range from {min(scores)} to {max(scores)} (M = {round(mean(scores),2)}, SD = {round(stdev(scores),2)}).')"
   ]
  },
  {
   "cell_type": "markdown",
   "metadata": {},
   "source": [
    "**See?!?** unless you really love copying and pasting numbers from spss output into word documents that collection of code should be really interesting to you. \n",
    "\n",
    "So, in the cell below make a couple of `string` variables and put them in an `f-string` (make it funny, might as well have a laugh)"
   ]
  },
  {
   "cell_type": "code",
   "execution_count": null,
   "metadata": {},
   "outputs": [],
   "source": [
    "# make your first string below\n",
    "\n",
    "\n",
    "# and make the second one below\n",
    "\n",
    "\n",
    "# and now print out an f-string with those variables below"
   ]
  },
  {
   "cell_type": "markdown",
   "metadata": {},
   "source": [
    "These are just simple examples of the kinds of things you can do with `strings` and there are more that we'll cover (especially when cleaning data) but for right now, the `f-string` is something you should keep in mind. \n",
    "\n",
    "## Let's recap (2/)\n",
    "\n",
    "### Indexing\n",
    "\n",
    "Remember that the `index` of an item is it's position *within an object*, and that for lists and strings we represent that position with a number. \n",
    "\n",
    "`example of 'str' index`\n",
    "|index | 0 | 1 | 2 | 3 | 4 | 5 | 6 | 7 | 8 | 9 | 10 |\n",
    "|:-----|:--|:-:|:-:|:-:|:-:|:-:|:-:|:-:|:-:|:-:|--:|\n",
    "|char  | h | e | l | l | o |   | w | o | r | l | d |\n",
    "\n",
    "\n",
    "\n",
    "`example of 'list' index`\n",
    "|index | 0 | 1 | 2 | 3 |\n",
    "|:-----|:-:|:-:|:-:|:-:|\n",
    "|item  | 'John' | 'Paul' | 'George' | 'Ringo' |\n",
    "\n",
    "When we want to extract some thing from an object we use the synax:\n",
    "\n",
    "`object[index_number]`\n",
    "\n",
    "In the cell below, use that syntax to get print out the _*second*_ and _*second-last*_ character of the first string variable you made earlier.\n",
    "\n",
    "If you want to be really fancy, you could pop them into an `f-string`. It's good practice. "
   ]
  },
  {
   "cell_type": "code",
   "execution_count": null,
   "metadata": {},
   "outputs": [],
   "source": [
    "# play around with this syntax here, you can use f-strings if you like\n",
    "# you could store the requested characters as variables before you make the f-string\n",
    "# or you could just use the syntax within the {}s in the f-string\n",
    "# have fun"
   ]
  },
  {
   "cell_type": "markdown",
   "metadata": {},
   "source": [
    "With `dicts` its just a little different, we use the `key` of the `key:value` pair instead of a number inside the [], like this:\n",
    "\n",
    "```\n",
    "my_dict = {'first_name':'Grampton', 'last_name':'St.Rumpterfraple', 'movie':'The Duchess Approves'}\n",
    "\n",
    "print(my_dict['movie'])\n",
    "```\n",
    "\n",
    "Again these are very simple examples, but they for the basis of something really powerful. As long as you have the general `syntax` in your mind you can use it in lots of different ways. "
   ]
  },
  {
   "cell_type": "markdown",
   "metadata": {},
   "source": [
    "## Let's recap (3/)\n",
    "\n",
    "The last thing that we worked on last week was `functions`. \n",
    "\n",
    "We talked about the fact that a `function` can be thought of a way of wrapping up a lot of code in a short and easy to type statement, like the `print()` and `type()` functions. The `Syntax` of functions"
   ]
  }
 ],
 "metadata": {
  "interpreter": {
   "hash": "31e930d7b51ee8dd4650f933a6f91200f5f0ee9c6baf8863a59e9679efb99ab3"
  },
  "kernelspec": {
   "display_name": "Python 3.10.2 64-bit ('3.10.2': pyenv)",
   "name": "python3"
  },
  "language_info": {
   "codemirror_mode": {
    "name": "ipython",
    "version": 3
   },
   "file_extension": ".py",
   "mimetype": "text/x-python",
   "name": "python",
   "nbconvert_exporter": "python",
   "pygments_lexer": "ipython3",
   "version": "3.9.6"
  },
  "orig_nbformat": 4
 },
 "nbformat": 4,
 "nbformat_minor": 2
}
