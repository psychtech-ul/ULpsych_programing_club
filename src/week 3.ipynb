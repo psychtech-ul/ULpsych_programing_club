{
 "cells": [
  {
   "cell_type": "markdown",
   "metadata": {},
   "source": [
    "# Week 3 - Scoping for the love of loops. \n",
    "\n",
    "Welcome back to the python for SPSS users sessions. This week we're going to talk about `loops`, python `modules`, and something called `scope`. But first...\n",
    "\n",
    "## Let's recap: Strings operations (1/3)\n",
    "\n",
    "\n",
    "Last week we did a lot of stuff with strings, we combined them (`concatenation):"
   ]
  },
  {
   "cell_type": "code",
   "execution_count": null,
   "metadata": {},
   "outputs": [],
   "source": [
    "a = 'Hello' #assigning a string to a variable\n",
    "b = 'World' #assigning a string to a variable\n",
    "\n",
    "print(a + b)# concatenating the 2 strings\n",
    "print(a + ' ' + b + '!')# adding a space and an exclamaition to make the strings print in a more human readable way"
   ]
  },
  {
   "cell_type": "markdown",
   "metadata": {},
   "source": [
    "We multiplied them (`replication`):"
   ]
  },
  {
   "cell_type": "code",
   "execution_count": null,
   "metadata": {},
   "outputs": [],
   "source": [
    "# remember that we can only multiply strings by ints, not floats\n",
    "print(a*8 )# getting python to print 'Hello' 8 times"
   ]
  },
  {
   "cell_type": "markdown",
   "metadata": {},
   "source": [
    "And we learned an easy and powerful way to `format` strings (`f-strings`):"
   ]
  },
  {
   "cell_type": "code",
   "execution_count": null,
   "metadata": {},
   "outputs": [],
   "source": [
    "c = 'me' #assigning a string to a variable\n",
    "\n",
    "d = f\"{a}, is it {c} you're looking for?\"# assigning a formatted string to a variable, the f-string includes the variables a and c\n",
    "\n",
    "print(d)"
   ]
  },
  {
   "cell_type": "markdown",
   "metadata": {},
   "source": [
    "The `f` and the `{}` in `f-strings` are really powerful, they let you run python within a sentence of human readable text. From the point of view of people writing results sections, this can be really powerful. Have a read through the cell below and before you run it and take a minute to think about how you might use it (try not to get overly exci... no actually get excited)."
   ]
  },
  {
   "cell_type": "code",
   "execution_count": null,
   "metadata": {},
   "outputs": [],
   "source": [
    "from statistics import mean, stdev# ignore this for now\n",
    "\n",
    "scores = [7, 4, 6, 3, 7, 7, 4, 3, 3, 2, 1, 1, 1, 6, 7, 8, 8, 5, 4]# imagine this is a column in a data set\n",
    "\n",
    "# now check out this magic\n",
    "print(f'The participant scores range from {min(scores)} to {max(scores)} (M = {round(mean(scores),2)}, SD = {round(stdev(scores),2)}).')"
   ]
  },
  {
   "cell_type": "markdown",
   "metadata": {},
   "source": [
    "**See?!?** unless you really love copying and pasting numbers from spss output into word documents that collection of code should be really interesting to you. \n",
    "\n",
    "So, in the cell below make a couple of `string` variables and put them in an `f-string` (make it funny, might as well have a laugh)"
   ]
  },
  {
   "cell_type": "code",
   "execution_count": null,
   "metadata": {},
   "outputs": [],
   "source": [
    "# make your first string below\n",
    "\n",
    "\n",
    "# and make the second one below\n",
    "\n",
    "\n",
    "# and now print out an f-string with those variables below"
   ]
  },
  {
   "cell_type": "markdown",
   "metadata": {},
   "source": [
    "These are just simple examples of the kinds of things you can do with `strings` and there are more that we'll cover (especially when cleaning data) but for right now, the `f-string` is something you should keep in mind. \n",
    "\n",
    "## Let's recap: Indexing (2/3)\n",
    "\n",
    "\n",
    "Remember that the `index` of an item is it's position *within an object*, and that for lists and strings we represent that position with a number. \n",
    "\n",
    "`example of 'str' index`\n",
    "|index | 0 | 1 | 2 | 3 | 4 | 5 | 6 | 7 | 8 | 9 | 10 |\n",
    "|:-----|:--|:-:|:-:|:-:|:-:|:-:|:-:|:-:|:-:|:-:|--:|\n",
    "|char  | h | e | l | l | o |   | w | o | r | l | d |\n",
    "\n",
    "\n",
    "\n",
    "`example of 'list' index`\n",
    "|index | 0 | 1 | 2 | 3 |\n",
    "|:-----|:-:|:-:|:-:|:-:|\n",
    "|item  | 'John' | 'Paul' | 'George' | 'Ringo' |\n",
    "\n",
    "When we want to extract some thing from an object we use the synax:\n",
    "\n",
    "`object[index_number]`\n",
    "\n",
    "In the cell below, use that syntax to get print out the _*second*_ and _*second-last*_ character of the first string variable you made earlier.\n",
    "\n",
    "If you want to be really fancy, you could pop them into an `f-string`. It's good practice. "
   ]
  },
  {
   "cell_type": "code",
   "execution_count": null,
   "metadata": {},
   "outputs": [],
   "source": [
    "# play around with this syntax here, you can use f-strings if you like\n",
    "# you could store the requested characters as variables before you make the f-string\n",
    "# or you could just use the syntax within the {}s in the f-string\n",
    "# have fun"
   ]
  },
  {
   "cell_type": "markdown",
   "metadata": {},
   "source": [
    "With `dicts` its just a little different, we use the `key` of the `key:value` pair instead of a number inside the [], like this:\n",
    "\n",
    "```\n",
    "my_dict = {'first_name':'Grampton', 'last_name':'St.Rumpterfraple', 'movie':'The Duchess Approves'}\n",
    "\n",
    "print(my_dict['movie'])\n",
    "```\n",
    "\n",
    "Again these are very simple examples, but they for the basis of something really powerful. As long as you have the general `syntax` in your mind you can use it in lots of different ways. "
   ]
  },
  {
   "cell_type": "markdown",
   "metadata": {},
   "source": [
    "## Let's recap: Functions (3/3)\n",
    "\n",
    "The last thing that we worked on last week was `functions`. \n",
    "\n",
    "We talked about the fact that a `function` can be thought of a way of wrapping up a lot of code in a short and easy to type statement, like the `print()` and `type()` functions. The  `syntax` of using functions is pretty simple, but it might be worth taking a few minutes to break down that syntax a little more. \n",
    "\n",
    "\n",
    "```\n",
    "print('Hello world')\n",
    "```\n",
    "\n",
    "You already know that he `print` bit is the name of the `function` and that this is followed by a pair of brackets `()`. The brackets are what actually tell python to exectute the `function`. The thing (or things) *between* the brackets is called an `argument`, so in the example above `'Hello world'` is the `argument` for the `print()` function. All of the premade `functions` we've looked at all take 1 argument. \n",
    "\n",
    "```\n",
    "print('Hello world')\n",
    "type('Hello world')\n",
    "```\n",
    "\n",
    "However, each specific `function` will have a required number of `arguments` and you can look them up as you need them. Don't worry about it too much because you can *always* look up a specific `function` when you need it, and the more you use a particular one, the better you'll remember it.\n",
    "\n",
    "### Defining functions\n",
    "\n",
    "Python has a whole world of functions, and there are more being added everyday (don't panic you don't need to know them all) but you can also make your own with a pretty simple `syntax`. We demonstrated two versions of this `syntax` last week. \n",
    "\n",
    "The first example just runs the same code everytime it's called so doesn't require any `arguments`"
   ]
  },
  {
   "cell_type": "code",
   "execution_count": null,
   "metadata": {},
   "outputs": [],
   "source": [
    "def my_function_1(): # we're not putting a placeholder variable in this cause we don't need it\n",
    "    # all the lines below are the first one are indented by 1 tab (or 4 spaces, but sersiously, just use 1 tab)\n",
    "    print('This')# We're splitting the functionality up into multiple lines\n",
    "    print('Function')\n",
    "    print('Works')"
   ]
  },
  {
   "cell_type": "markdown",
   "metadata": {},
   "source": [
    "In this second example we want the `function` to be able to operate on a `variable` so we need to use a placeholder when we define it "
   ]
  },
  {
   "cell_type": "code",
   "execution_count": null,
   "metadata": {},
   "outputs": [],
   "source": [
    "def my_function_2(placeholder):# notice that this line is almost exactly the same except for the placeholder, \n",
    "    # again, all the lines are indented\n",
    "    print(f'The variable is: {placeholder}')# using an f-string to print out the variable\n",
    "    print(f'it is a {type(placeholder)} object')"
   ]
  },
  {
   "cell_type": "markdown",
   "metadata": {},
   "source": [
    "So now that we have defined these two functions in the cells above we can call them in subsequent cells without having to type out all that code again."
   ]
  },
  {
   "cell_type": "code",
   "execution_count": null,
   "metadata": {},
   "outputs": [],
   "source": [
    "my_function_1()"
   ]
  },
  {
   "cell_type": "code",
   "execution_count": null,
   "metadata": {},
   "outputs": [],
   "source": [
    "my_function_2(6)"
   ]
  },
  {
   "cell_type": "code",
   "execution_count": null,
   "metadata": {},
   "outputs": [],
   "source": [
    "my_function_2('Banana')"
   ]
  },
  {
   "cell_type": "code",
   "execution_count": null,
   "metadata": {},
   "outputs": [],
   "source": [
    "z = 24.5\n",
    "\n",
    "my_function_2(z)"
   ]
  },
  {
   "cell_type": "markdown",
   "metadata": {},
   "source": [
    "We can also define a function that takes multiple arguments"
   ]
  },
  {
   "cell_type": "code",
   "execution_count": null,
   "metadata": {},
   "outputs": [],
   "source": [
    "def my_function_3(a,b): #we are using two placeholders here\n",
    "    print(a*b)# this function takes numbers and multiplies them\n"
   ]
  },
  {
   "cell_type": "code",
   "execution_count": null,
   "metadata": {},
   "outputs": [],
   "source": [
    "my_function_3(2,3)\n",
    "my_function_3(100, 2.24)"
   ]
  },
  {
   "cell_type": "markdown",
   "metadata": {},
   "source": [
    "In the cell below, define a function that takes a number and multiplies it by another number (2 arguments)"
   ]
  },
  {
   "cell_type": "code",
   "execution_count": null,
   "metadata": {},
   "outputs": [],
   "source": [
    "#define your function in this cell"
   ]
  },
  {
   "cell_type": "markdown",
   "metadata": {},
   "source": [
    "Again, there are lots of functions 'built in' to python, and you can make your own with the `syntax` you've used above, but we don't want to overwhelm you with the idea that you need to learn all the functions in python *right now*. \n",
    "In most cases you'll find functions to solve a particular problem in tutorials or on **stackoverflow** answers (more about this in later sessions) and the more you use a particular function, the better you'll get to know it and the less you need to look it up. \n",
    "\n",
    "If you are interested in diving deeper we strongly recomend 2 books:\n",
    "\n",
    " 1. Python crash course 2nd edition by Mathews (the first edition focuses on an outdated version of python)\n",
    "  - This is a really good, project based, introduction to python, with chapters on web development, game development, and data science. \n",
    " 2. Pandas for everyone by Chen\n",
    "  - This is *the* book on using python for data science and it includes a good general introduction to python. \n",
    "\n",
    "We do recommend these books, they're really enjoyable introductions to python, but you don't *need* them to go through these notebooks (and Kev has them in his office if you want to borrow them)."
   ]
  },
  {
   "cell_type": "markdown",
   "metadata": {},
   "source": [
    "### A note about paceholder variables\n",
    "\n",
    "One of the most important things to understand about functions (and Python in general) is the use of placeholders variables. \n",
    "\n",
    "Typically, when you write functions, you will often have a specific purpose in mind. For example, last week we asked you to write a function that took your name, and then printed both your name and the last letter of your name within a f-string. Since we had already asked you to store your first name in a variable (`first_name`) the temptation is to write your function specifically to print out that variable, and avoid using the placeholder variable within your function. \n",
    "\n",
    "For example you could have written that function like this:\n"
   ]
  },
  {
   "cell_type": "code",
   "execution_count": 12,
   "metadata": {},
   "outputs": [
    {
     "name": "stdout",
     "output_type": "stream",
     "text": [
      "Hi there, my name is Eve and the last letter in my name is e.\n",
      "Eve\n"
     ]
    }
   ],
   "source": [
    "first_name = \"Eve\"\n",
    "\n",
    "def last_week_function_v1(x):\n",
    "    print(f\"Hi there, my name is {first_name} and the last letter in my name is {first_name[-1]}.\")\n",
    "\n",
    "last_week_function_v1(first_name)\n",
    "\n",
    "print(first_name)"
   ]
  },
  {
   "cell_type": "markdown",
   "metadata": {},
   "source": [
    "This is a perfectly fine function. It correctly identifies our first name variable and prints both the variable and its last letter correctly. \n",
    "\n",
    "But there is another way to write this function, the way we did it last week, using the placeholder.  like this:"
   ]
  },
  {
   "cell_type": "code",
   "execution_count": 8,
   "metadata": {},
   "outputs": [
    {
     "name": "stdout",
     "output_type": "stream",
     "text": [
      "Hi there, my name is Eve and the last letter in my name is e.\n"
     ]
    }
   ],
   "source": [
    "def last_week_function_v2(x):\n",
    "    print(f\"Hi there, my name is {x} and the last letter in my name is {x[-1]}.\")\n",
    "    \n",
    "\n",
    "last_week_function_v2(first_name)"
   ]
  },
  {
   "cell_type": "markdown",
   "metadata": {},
   "source": [
    "If the two functions above produce the exact same output, then why should we use a placeholder?\n",
    "\n",
    "The value of a placeholder is that it significantly increases the scope of our code. The way we have defined our `last_week_functionv1` limits our scope only to print whatever is stored into our `first_name` variable at that time. \n",
    "\n",
    "In contrast, the placeholder (called 'x' in this example, we can call our placeholder name pretty much anything within reason: puppies, cupcakes, the_moon_landing_was_a_hoax, butterflies)\n",
    "\n",
    "Look what happens when we change what we use to call the function for both versions. "
   ]
  },
  {
   "cell_type": "code",
   "execution_count": 20,
   "metadata": {},
   "outputs": [
    {
     "name": "stdout",
     "output_type": "stream",
     "text": [
      "Hi there, my name is Danny and the last letter in my name is y.\n"
     ]
    }
   ],
   "source": [
    "first_name = \"Danny\"\n",
    "last_name = \"Squarepants\"\n",
    "\n",
    "\n",
    "def last_week_function_v1(x):\n",
    "    print(f\"Hi there, my name is {first_name} and the last letter in my name is {first_name[-1]}.\")\n",
    "\n",
    "last_week_function_v1(last_name)\n"
   ]
  },
  {
   "cell_type": "code",
   "execution_count": 17,
   "metadata": {},
   "outputs": [
    {
     "name": "stdout",
     "output_type": "stream",
     "text": [
      "Hi there, my name is Squarepants and the last letter in my name is s.\n"
     ]
    }
   ],
   "source": [
    "def last_week_function_v2(x):\n",
    "    print(f\"Hi there, my name is {x} and the last letter in my name is {x[-1]}.\")\n",
    "    \n",
    "\n",
    "last_week_function_v2(last_name)\n"
   ]
  },
  {
   "cell_type": "markdown",
   "metadata": {},
   "source": [
    "You can see that the first function does not adapt to our function call, but the second function does. \n",
    "\n",
    "As a result, the second function, by using the placeholders, enables us to be much more flexible. \n",
    "\n",
    "To use an analogy, imagine you bought a fitbit, and rather than the fitbit calculating your resting heart rate (or the resting heart of anyone who wore that particular fitbit), it instead calculated the heart rate of some shmuck in Minnesota (let's called him Larry) wearing a fitbit. And while you may be deeply concerned about Larry's rather high RHR, this hypothetical fitbit is not a useful product, because it would not be adaptable to your own heart rate. \n",
    "\n",
    "Similarly, we want our functions to be as adaptable as possible, so we can use those functions on as many things as possible. The more adaptable our functions, the less functions we need to write. And we haven't told you yet, but us programmers all worship the majestic creature of the sloth, because we are some lazy SOBs. So we will expand on that idea (and the necessary blood sacrifices associated with it) later on in these workshops, but for now, embrace your inner sloth by using your placeholder variables within your functions when you can. "
   ]
  },
  {
   "cell_type": "markdown",
   "metadata": {},
   "source": [
    "\n",
    "OK, that's enough recaping let's get t'looping.\n",
    "\n",
    "\n",
    "## Loops\n",
    "\n",
    "So since we conned... I mean convinced you to start learning python as a tool for data management and analysis we have been mentioning the power of getting the computer to do things for you, the power of `automation`. This is just taking a repetative task and getting the computer to carry out those tasks for you, and `loops` are core of that process. \n",
    "\n",
    "## For loops\n",
    "Lets imagine that you want to print out every item in a list, with what we've talked about so far you might do this with a seperate `print()` statement for each item"
   ]
  },
  {
   "cell_type": "code",
   "execution_count": null,
   "metadata": {},
   "outputs": [],
   "source": [
    "beatles = ['John', 'Paul', 'George', 'Ringo']\n",
    "\n",
    "print(beatles[0])\n",
    "print(beatles[1])\n",
    "print(beatles[2])\n",
    "print(beatles[3])\n",
    "\n"
   ]
  },
  {
   "cell_type": "markdown",
   "metadata": {},
   "source": [
    "However, there are a lot of things wrong with that approach:\n",
    " 1. It's not really automation, you're giving each instruction line by line\n",
    " 2. It's not effecient code, you're wasting time typing out essentially the same statement \n",
    " 3. It's ugly (trust us, it's ugly code) and it can make it harder to fix issues when they pop up\n",
    "\n",
    "This is where the power of `for loops` comes in, take a look at the example below:"
   ]
  },
  {
   "cell_type": "code",
   "execution_count": null,
   "metadata": {},
   "outputs": [],
   "source": [
    "for name in beatles: # starts with 'for' and ends with a :\n",
    "    print(name) # each new line is indented "
   ]
  },
  {
   "cell_type": "markdown",
   "metadata": {},
   "source": [
    "It might be apparent that this `syntax` is really similar to the `syntax` we use for `defining` a `function`, with some specific differences. \n",
    "\n",
    " 1. we start with `for`\n",
    " 2. we enter a placeholder variable\n",
    " 3. we type 'in'\n",
    " 4. we type the name of the collection we want to work on (if it has one)\n",
    " 5. we end with a colon\n",
    " 6. we start each new line with an indentation\n",
    " 7. we `call` what ever function or functionality we want passing the placeholder variable as the argument (the placeholder can be any alphabetic character )"
   ]
  },
  {
   "cell_type": "code",
   "execution_count": null,
   "metadata": {},
   "outputs": [],
   "source": [
    "for i in beatles:\n",
    "    print(i)"
   ]
  },
  {
   "cell_type": "markdown",
   "metadata": {},
   "source": [
    "This `syntax` works on any `iterable`, which is just another name for a collection of objects like a list or string."
   ]
  },
  {
   "cell_type": "code",
   "execution_count": null,
   "metadata": {},
   "outputs": [],
   "source": [
    "for l in beatles[0]: #using the first item in 'beatles', which is a string\n",
    "    print(l)# printing each letter of the string"
   ]
  },
  {
   "cell_type": "markdown",
   "metadata": {},
   "source": [
    "So as you can see, `for loops` are quite simple, in essence, but they are really powerful, and honestly, they are just handy. \n",
    "\n",
    "In the cell below, make a list, it can be any list you like, but keep it simple, and then write a `for loop` that prints out each object in that list. "
   ]
  },
  {
   "cell_type": "code",
   "execution_count": null,
   "metadata": {},
   "outputs": [],
   "source": [
    "# make a list on the next line\n",
    "\n",
    "# write a for-loop that prints out each item in the list"
   ]
  },
  {
   "cell_type": "markdown",
   "metadata": {},
   "source": [
    "Now to practice again, make a list of number, floats or ints, and write a for loop that multiplies all of those number by 10. "
   ]
  },
  {
   "cell_type": "code",
   "execution_count": null,
   "metadata": {},
   "outputs": [],
   "source": [
    "# Make your list of numbers here. \n",
    "\n",
    "\n",
    "#write a for loop that multiples each number (n) by 10 (n*10)\n"
   ]
  },
  {
   "cell_type": "markdown",
   "metadata": {},
   "source": [
    "Look at you go!! Using `for loops` like an absolute champion!! It's a great first step to being able to automate boring tasks. \n",
    "\n",
    "For instance, lets imagine you have a raw data set from qualtrics in an excel file, and the person (or *Absolute flippin' ejit*) didn't name the questions in qualtrics when they were programing the survey (*blargh*). All of the items in the raw data are just called 'Q1, Q2' etc, and you have to clean the data, giving a useful name to each item. \n",
    "\n",
    "One of the ways that we might do this (ignoring actually importing the data into python for now) is make an empty list, and then populate that list using a `for-loop`. Lets imagine you want to name the items of the BFI-44:"
   ]
  },
  {
   "cell_type": "code",
   "execution_count": null,
   "metadata": {},
   "outputs": [],
   "source": [
    "bfi = [] #making an empty list\n",
    "\n",
    "for i in range(1,45):# begining the for loop, and using the range function\n",
    "    bfi.append(f'bfi_{i}')#using the 'append' method and an f-string to append a formatted string to our empty list\n",
    "\n",
    "print(bfi[0:10])# printing out the first ten items of the bfi list to check if the formatting has worked. "
   ]
  },
  {
   "cell_type": "markdown",
   "metadata": {},
   "source": [
    "You now have a clean list that you can use to rename columns, no copying and pasting, no moving between excel and spss, just 3 lines of code and your object is ready. We'll show you how to actually do this on 'real' data in future sessions but for now we just want to give you a sense of how to use simple `for-loops` and the kind of thing they might be used for. \n",
    "\n",
    "Ok we're nearly done with `for loops` for now, but there's a couple of other things we want to show you. \n",
    "\n",
    "## Nested for loops\n",
    "There are lots you can do with `for loops`, but something that may need to be pointed out is that they can be `nested` meaning that multiple `for loops` can be run at the same time, if, for example, you want to work with two or more lists at the same time. \n",
    "\n",
    "In the example below we have two lists of numbers and we want each number is the first list (called `ns`) to be multiplied by each number in the second list (called `np`) and then want some output to be produced that updates the use on what's happening (using an `f-string`). Take a look at the exmaple we've used below, pay close attention to the `syntax`; specifically the `indentation`. \n",
    "\n"
   ]
  },
  {
   "cell_type": "code",
   "execution_count": 7,
   "metadata": {},
   "outputs": [
    {
     "name": "stdout",
     "output_type": "stream",
     "text": [
      "The number at position 0(which is 6) has been multiplied by 4. The result is 24\n",
      "The number at position 0(which is 6) has been multiplied by 3. The result is 18\n",
      "The number at position 0(which is 6) has been multiplied by 2. The result is 12\n",
      "The number at position 0(which is 6) has been multiplied by 1. The result is 6\n",
      "The number at position 1(which is 5) has been multiplied by 4. The result is 20\n",
      "The number at position 1(which is 5) has been multiplied by 3. The result is 15\n",
      "The number at position 1(which is 5) has been multiplied by 2. The result is 10\n",
      "The number at position 1(which is 5) has been multiplied by 1. The result is 5\n",
      "The number at position 2(which is 4) has been multiplied by 4. The result is 16\n",
      "The number at position 2(which is 4) has been multiplied by 3. The result is 12\n",
      "The number at position 2(which is 4) has been multiplied by 2. The result is 8\n",
      "The number at position 2(which is 4) has been multiplied by 1. The result is 4\n",
      "The number at position 3(which is 3) has been multiplied by 4. The result is 12\n",
      "The number at position 3(which is 3) has been multiplied by 3. The result is 9\n",
      "The number at position 3(which is 3) has been multiplied by 2. The result is 6\n",
      "The number at position 3(which is 3) has been multiplied by 1. The result is 3\n"
     ]
    }
   ],
   "source": [
    "ns = [6,5,4,3]# making a list of numbers\n",
    "np = [4,3,2,1]# making another list of numbers\n",
    "\n",
    "for i, n in enumerate(ns):# enumerate() is a new function that allows us to access the index and the item in one call\n",
    "    #note the first indentation\n",
    "    for j in np:\n",
    "        # note the second indentation\n",
    "        k = n*j\n",
    "        print(f'The number at position {i}(which is {n}) has been multiplied by {j}. The result is {k}')"
   ]
  },
  {
   "cell_type": "markdown",
   "metadata": {},
   "source": [
    "Let's talk through that cell because it's one of the more complex examples we've thrown at you so far. \n",
    "\n",
    "We start by making a couple of lists of `ints` so we have something to work with. Then we start our first `for loop` using a `function` which allows us to access both the index of an item and the item itself from our *first list* ('`enumerate()`', this is a handy `function` to keep in your pocket). After the first ':' we then start a new `indented` line where we begin a *new* `for loop` that calls the items in our second list. \n",
    "\n",
    "After the ':' for our second for loop we start another `indented` line that begins another `for loop` calls items in our second list (`np`) and after that (after the ':' for that `loop`) we `indent` again. \n",
    "Each level of indentation tells python that the indented code relates to the top line, rather than just being a new line of code. "
   ]
  },
  {
   "cell_type": "code",
   "execution_count": null,
   "metadata": {},
   "outputs": [],
   "source": [
    "\n",
    "    #note the first indentation\n",
    "for j in np:\n",
    "    for i, n in enumerate(ns):# enumerate() is a new function that allows us to access the index and the item in one call\n",
    "        # note the second indentation\n",
    "        k = n*j\n",
    "        print(f'the number at position {i}({n}) has been multiplied by {j}. The result is {k}')"
   ]
  },
  {
   "cell_type": "markdown",
   "metadata": {},
   "source": [
    "# Modules \n",
    "\n",
    "One of the most useful things Python enables you to do is to use code that has already been written. This code can either have been written by someone else (and they have been generous enough to the whole community to share their work) or by a prior version of you. \n",
    "\n",
    "Python enables this by using modules.\n",
    "\n",
    "Modules are other Python files that we want to incorporate into our code (really that’s all they are). The specific python file(s) – AKA module - may contain a list of variables (e.g., think about importing variables from a dataset) that you want to perform analysis on, or a set of functions that you want to execute on your variables. Modules are useful, because they i) prevent us from having to manually write out variables (think about how many damn times you have been asked to manually insert data into SPSS from a word document), ii) creating functions ourselves that have already been created, or iii) redefining our own functions every time we open a new file.\n",
    "\n",
    "Today, we want to walk you through how you import and use a module in Python. The modules we are going to work with today are both useful and easy to implement, they are called pathlib and webbrowser. \n",
    "\n",
    "## Importing the module Pathlib\n",
    "\n",
    "When we use Python for data science, we will often be working with files and folders. For example, at some point in these workshops we will ask you to access raw data from a file, clean it and process the data, and then save the cleaned and processed datasets (along with the results) in a relevant folder location. \n",
    "\n",
    "To do this, we need relatively sophisticated code to work with our operating systems and the way we have structured our folders and files. This is where the pathlib module comes in. Pathlib includes several useful functions to deal with files and 'paths' (the location of your file on your compter and how to get there)\n",
    "\n",
    "To get you started with pathlib, let's get it imported. \n"
   ]
  },
  {
   "cell_type": "code",
   "execution_count": 29,
   "metadata": {},
   "outputs": [
    {
     "data": {
      "text/plain": [
       "['EBADF',\n",
       " 'EINVAL',\n",
       " 'ELOOP',\n",
       " 'ENOENT',\n",
       " 'ENOTDIR',\n",
       " 'Path',\n",
       " 'PosixPath',\n",
       " 'PurePath',\n",
       " 'PurePosixPath',\n",
       " 'PureWindowsPath',\n",
       " 'S_ISBLK',\n",
       " 'S_ISCHR',\n",
       " 'S_ISDIR',\n",
       " 'S_ISFIFO',\n",
       " 'S_ISLNK',\n",
       " 'S_ISREG',\n",
       " 'S_ISSOCK',\n",
       " 'Sequence',\n",
       " 'WindowsPath',\n",
       " '_Accessor',\n",
       " '_Flavour',\n",
       " '_IGNORED_ERROS',\n",
       " '_IGNORED_WINERRORS',\n",
       " '_NormalAccessor',\n",
       " '_PathParents',\n",
       " '_PosixFlavour',\n",
       " '_PreciseSelector',\n",
       " '_RecursiveWildcardSelector',\n",
       " '_Selector',\n",
       " '_TerminatingSelector',\n",
       " '_WildcardSelector',\n",
       " '_WindowsFlavour',\n",
       " '__all__',\n",
       " '__builtins__',\n",
       " '__cached__',\n",
       " '__doc__',\n",
       " '__file__',\n",
       " '__loader__',\n",
       " '__name__',\n",
       " '__package__',\n",
       " '__spec__',\n",
       " '_getfinalpathname',\n",
       " '_ignore_error',\n",
       " '_is_wildcard_pattern',\n",
       " '_make_selector',\n",
       " '_normal_accessor',\n",
       " '_posix_flavour',\n",
       " '_windows_flavour',\n",
       " 'attrgetter',\n",
       " 'fnmatch',\n",
       " 'functools',\n",
       " 'io',\n",
       " 'nt',\n",
       " 'ntpath',\n",
       " 'os',\n",
       " 'posixpath',\n",
       " 're',\n",
       " 'supports_symlinks',\n",
       " 'sys',\n",
       " 'urlquote_from_bytes']"
      ]
     },
     "execution_count": 29,
     "metadata": {},
     "output_type": "execute_result"
    }
   ],
   "source": [
    "import pathlib #Line 1\n",
    "\n",
    "dir(pathlib) ### Line 2\n"
   ]
  },
  {
   "cell_type": "markdown",
   "metadata": {},
   "source": [
    "In line 1, I asked python (nicely) to import the module called pathlib. This will be generally be the syntax you will use to import a module into your python script - there are a few bells and whistles we can throw on in a sec. \n",
    "\n",
    "On line 2, I then ask python to print the directory of the pathlib. All that means really is I have asked python to tell me what is in pathlib. Each item listed is a different class/instance of pathlib. You can see that the pathlib module contains a lot of classes, so many that our jupyter output will not print all of them. \n",
    "\n",
    "We are now going to use one of those classes, Path (6th one down from the top), to get some information about our files. \n"
   ]
  },
  {
   "cell_type": "code",
   "execution_count": null,
   "metadata": {},
   "outputs": [],
   "source": [
    "current_dir = pathlib.Path.cwd() #Line 3\n",
    "print(current_dir) #Line 4"
   ]
  },
  {
   "cell_type": "markdown",
   "metadata": {},
   "source": [
    "Okay, so on line 3, we created a variable `current_dir`. We then assign `pathlib.Path.cwd()` to that variable. To understand what this `pathlib.Path.cwd()` doohickey is doing, we will break it down into three parts, going from left to right. \n",
    "\n",
    "1. `pathlib`: We specify that this code is working from the pathlib module first. \n",
    "\n",
    "2. `.Path`: We specify that from the pathlib module, we are working with the Path class. \n",
    "\n",
    "3. `cwd()`: From the path class, we are using the cwd() function. \n",
    "\n",
    "Essentially we have told our computer: \"Go to `pathlib`, into the `Path` section, and get me the `cwd()` function\" (and like a lazy sloth we have not moved an inch from our recliner asking for this)\n",
    "\n",
    "Then on line 4, we print the `current_dir` and it outputs the pathway to the current folder we are working from (ideally, this should be within your Python folder you create for the first notebook, and within that folder, it should be in the \"src\" folder). For example, line 4 outputs the following for me:\n",
    "\n",
    "c:\\Users\\Ryan.Donovan\\Desktop\\Python_Data_Science\\src\n",
    "\n",
    "Generally, whenever we import a module, and then use something from a class in its module, we can use the following syntax. \n",
    "\n",
    "`module.class.function()`\n",
    "\n"
   ]
  },
  {
   "cell_type": "markdown",
   "metadata": {},
   "source": [
    "If we know ahead of time that we will only be working with one class, then we actually cut the amount of code we need to write. \n",
    "\n",
    "For example, assuming we are only using the Path class, we could write"
   ]
  },
  {
   "cell_type": "code",
   "execution_count": null,
   "metadata": {},
   "outputs": [],
   "source": [
    "from pathlib import Path # Line 5\n",
    "\n",
    "\n",
    "current_dir1 = Path.cwd() #Line 6\n",
    "print(current_dir1) #Line 7\n",
    "\n",
    "\n",
    "#Below you should get the same output as from the previous code cell"
   ]
  },
  {
   "cell_type": "markdown",
   "metadata": {},
   "source": [
    "In line 5, rather than asking our computer to pull all the information from pathlib, I specify that `from` pathlib, I want the `Path` class. This means that I don't need to write pathlib in my code again after importing it. \n",
    "\n",
    "We will be coming back to more to pathlib in coming weeks. For now, we just want to show it to you as an introduction to modules. \n",
    "\n",
    "Two other modules we will look at are `datetime` and `webbrowser`"
   ]
  },
  {
   "cell_type": "markdown",
   "metadata": {},
   "source": [
    "## Importing the module datetime\n",
    "\n",
    "Python has a module named datetime to work with dates and times. This is useful as it enables us to handle different measurements of time (years, hours, days, seconds, miliseconds), to track timezones, the current date, day, along with a host of other information. \n",
    "\n",
    "Let's import the datetime module and let's give it a nickname."
   ]
  },
  {
   "cell_type": "code",
   "execution_count": 56,
   "metadata": {},
   "outputs": [],
   "source": [
    "import datetime as dt #saving the module datetime under the nickname: dt\n",
    "\n",
    "today = dt.datetime.now() #From the datetime module, select the class datetime (confusing I know), \n",
    "# and use the now() function\n",
    "\n",
    "\n",
    "#Print out: Today's date is + today variable, using a f-string.\n",
    "#print() "
   ]
  },
  {
   "cell_type": "markdown",
   "metadata": {},
   "source": [
    "It's always use to save your modules under a nickname. We signify this nickname by using 'as'\n",
    "\n",
    "We can also use `dt` to print out a date from the past"
   ]
  },
  {
   "cell_type": "code",
   "execution_count": 54,
   "metadata": {},
   "outputs": [
    {
     "name": "stdout",
     "output_type": "stream",
     "text": [
      "1993-11-06\n",
      "1993-11-06 18:32:12.342380\n"
     ]
    }
   ],
   "source": [
    "yester_year = dt.date(1993, 11, 6) #This uses the American format: Year, Month, Day \n",
    "\n",
    "print(yester_year)\n",
    "\n",
    "#we can even go further and print the hour, minute, second, and microsecond\n",
    "\n",
    "yester_year1 = dt.datetime(1993, 11, 6, 18, 32, 12, 342380)\n",
    "print(yester_year1)"
   ]
  },
  {
   "cell_type": "code",
   "execution_count": null,
   "metadata": {},
   "outputs": [],
   "source": [
    "# Import the module datetime, give it a nickname, and then create a variable with your date of birth (or not, be that way)"
   ]
  },
  {
   "cell_type": "markdown",
   "metadata": {},
   "source": [
    "That's a brief walkthrough of the datetime module. Let's wrap up today with our last module: `webbrowser`"
   ]
  },
  {
   "cell_type": "markdown",
   "metadata": {},
   "source": [
    "## Importing the module Web Browser\n",
    "\n",
    "One of the cool things you can do with Python is to interact with webpages online. For example, the `webbrowser` module enables you to display web pages. See what happens when you run the following:\n",
    "\n"
   ]
  },
  {
   "cell_type": "code",
   "execution_count": 48,
   "metadata": {},
   "outputs": [],
   "source": [
    "import webbrowser as wb\n",
    "\n",
    "wb.open(\"https://xkcd.com/353/\")  #Use a comment to try and describe what is going on here\n",
    "#One difference is we have not called a class"
   ]
  },
  {
   "cell_type": "markdown",
   "metadata": {},
   "source": [
    "These three modules are just a taste of the variety of things that you modules enable you to do. Today we just wanted you to get used to seeing modules. In the following weeks, we will using various modules to import, clean, analyse, and export code."
   ]
  }
 ],
 "metadata": {
  "interpreter": {
   "hash": "31e930d7b51ee8dd4650f933a6f91200f5f0ee9c6baf8863a59e9679efb99ab3"
  },
  "kernelspec": {
   "display_name": "Python 3.10.2 64-bit ('3.10.2': pyenv)",
   "name": "python3"
  },
  "language_info": {
   "codemirror_mode": {
    "name": "ipython",
    "version": 3
   },
   "file_extension": ".py",
   "mimetype": "text/x-python",
   "name": "python",
   "nbconvert_exporter": "python",
   "pygments_lexer": "ipython3",
   "version": "3.9.7"
  },
  "orig_nbformat": 4
 },
 "nbformat": 4,
 "nbformat_minor": 2
}
