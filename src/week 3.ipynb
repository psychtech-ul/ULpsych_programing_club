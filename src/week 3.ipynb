{
 "cells": [
  {
   "cell_type": "markdown",
   "metadata": {},
   "source": [
    "# Week 3 - Scoping for the love of loops. \n",
    "\n",
    "Welcome back to the python for SPSS users sessions. This week we're going to talk about `loops`, python `modules`, and something called `scope`. But first...\n",
    "\n",
    "## Let's recap (1/)\n",
    "\n",
    "### Strings operations\n",
    "\n",
    "Last week we did a lot of stuff with strings, we combined them (`concatenation):"
   ]
  },
  {
   "cell_type": "code",
   "execution_count": 2,
   "metadata": {},
   "outputs": [
    {
     "name": "stdout",
     "output_type": "stream",
     "text": [
      "HelloWorld\n",
      "Hello World!\n"
     ]
    }
   ],
   "source": [
    "a = 'Hello' #assigning a string to a variable\n",
    "b = 'World' #assigning a string to a variable\n",
    "\n",
    "print(a + b)# concatenating the 2 strings\n",
    "print(a + ' ' + b + '!')# adding a space and an exclamaition to make the strings print in a more human readable way"
   ]
  },
  {
   "cell_type": "markdown",
   "metadata": {},
   "source": [
    "We multiplied them (`replication`):"
   ]
  },
  {
   "cell_type": "code",
   "execution_count": 5,
   "metadata": {},
   "outputs": [
    {
     "name": "stdout",
     "output_type": "stream",
     "text": [
      "HelloHelloHelloHelloHelloHelloHelloHello\n"
     ]
    }
   ],
   "source": [
    "# remember that we can only multiply strings by ints, not floats\n",
    "print(a*8 )# getting python to print 'Hello' 8 times"
   ]
  },
  {
   "cell_type": "markdown",
   "metadata": {},
   "source": [
    "And we learned an easy and powerful way to `format` strings (`f-strings`):"
   ]
  },
  {
   "cell_type": "code",
   "execution_count": 9,
   "metadata": {},
   "outputs": [
    {
     "name": "stdout",
     "output_type": "stream",
     "text": [
      "Hello, is it me you're looking for?\n"
     ]
    }
   ],
   "source": [
    "c = 'me' #assigning a string to a variable\n",
    "\n",
    "d = f\"{a}, is it {c} you're looking for?\"# assigning a formatted string to a variable, the f-string includes the variables a and c\n",
    "\n",
    "print(d)"
   ]
  }
 ],
 "metadata": {
  "interpreter": {
   "hash": "da3e0b0f4dc5d44db4d7e0a7396f401911ef6d0325c18f6517bd5ad3af6d2cfb"
  },
  "kernelspec": {
   "display_name": "Python 3.9.6 64-bit ('research': venv)",
   "language": "python",
   "name": "python3"
  },
  "language_info": {
   "codemirror_mode": {
    "name": "ipython",
    "version": 3
   },
   "file_extension": ".py",
   "mimetype": "text/x-python",
   "name": "python",
   "nbconvert_exporter": "python",
   "pygments_lexer": "ipython3",
   "version": "3.9.6"
  },
  "orig_nbformat": 4
 },
 "nbformat": 4,
 "nbformat_minor": 2
}
