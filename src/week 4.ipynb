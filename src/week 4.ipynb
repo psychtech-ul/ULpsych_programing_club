{
 "cells": [
  {
   "cell_type": "markdown",
   "metadata": {},
   "source": [
    "# Week 4: The recapening\n",
    "\n",
    "Hey'up! Welcome back to our series of sessions on python for SPSS users. \n",
    "\n",
    "In this session we're going to introduce you to the idea of a `virtual environment`, which sounds complex but really it's just a way of making sure you rprojects are safe from **the inevitable and crushing march of time**. It's the last thing to cover before we start working with data in `pandas`. Before we move onto that however, we want to take time to recap the more complex things that we've covered in the last few weeks, and to reinforce a couple of points that we've made in the last couple of weeks. \n",
    "\n",
    "## `Syntax` == lego\n",
    "\n",
    "Over the last few weeks you've been introduced to quite a lot of things, different `types` of `objects` (`ints`, `floats`, `strings`, `lists`, `dicts`), and you played around with a couple of different operations like `addition` and `concatenation`,  `multiplication` and `replication`, and you've learned how to pick `objects` appart using `indexing`. You've also learned how to give an object a short name that can be used to make it easier to work with, you've learned to `assign a variable`, and you've learned how to `call` a `function` to perform more complex operations on your objects. \n",
    "\n",
    "As a warm up, we have laid out some `code cells` below, please fill in required code to get the cells to work.  \n"
   ]
  },
  {
   "cell_type": "code",
   "execution_count": null,
   "metadata": {},
   "outputs": [],
   "source": [
    "# make a string object below\n",
    "\n",
    "# assign that string object to a variable\n",
    "\n",
    "# assign an int to a variable (varibale = object)\n",
    "\n",
    "# make a list of 4 objects (make at least 1 a string) and assign it to a variable in one line (variable = [object_1, object_2, object_3, object_4])\n"
   ]
  },
  {
   "cell_type": "code",
   "execution_count": null,
   "metadata": {},
   "outputs": [],
   "source": [
    "# assign the string in your list to a variable (variable = your_list[index])\n",
    "\n",
    "# print the last letter of the string variable (print(list_string_var[index]))"
   ]
  },
  {
   "cell_type": "code",
   "execution_count": null,
   "metadata": {},
   "outputs": [],
   "source": [
    "# assign one of the other objects in your list to a variable\n",
    "\n",
    "# check the 'type' of that object"
   ]
  },
  {
   "cell_type": "code",
   "execution_count": null,
   "metadata": {},
   "outputs": [],
   "source": [
    "#  make an 'f-string' that tells us what the last variable you made is and what 'type' of object it is, store that 'f-string' in a variable\n",
    "\n",
    "\n",
    "# print the 'f-string'"
   ]
  },
  {
   "cell_type": "markdown",
   "metadata": {},
   "source": [
    "Well done, before you move on check with one of us to make sure that your code is correct.\n",
    "\n",
    "Each of the things you've just done is an example of `syntax`, which is just the pattern of code that's used to do a particular thing. So the basic `syntax` for making a list is to \n",
    "\n",
    " 1. open square brackets '['\n",
    " 2. enter each of the items in your list, seperated by commas \n",
    " 3. close the square brackets ']'\n",
    "\n",
    "When we are learning to code, all we're really doing is learning those patterns of `syntax` and then learning how to combine those pieces of `syntax` in some way to get the computer to understand what we want it to do. In essence each piece of `syntax` is like a lego brick that can be combined with others to make something more complex. It's exactly like anyother language you've learned (and everyone in these sessions has learned at least one language).\n",
    "\n",
    "So when you see something new, or something  that looks more complex, take it line by line, try to identify the `syntax` components and see how they've been put together. We try to make sure there are always `# comments` to make it easier for you to identify what's going on. \n",
    "\n",
    "Something that might be useful for you to do is to make cells in your spare notebook (the one we made in week 1, it might be called `my first notebook.ipynb`) that act like a dictionary entry for each piece of `syntax` you come across. This will always be there for you to go back to and refresh yourself on a particular operation somethike the example below:\n",
    "\n"
   ]
  },
  {
   "cell_type": "code",
   "execution_count": 4,
   "metadata": {},
   "outputs": [
    {
     "data": {
      "text/plain": [
       "6"
      ]
     },
     "execution_count": 4,
     "metadata": {},
     "output_type": "execute_result"
    }
   ],
   "source": [
    "# how to make a dictionary\n",
    "# a dictionary is made up of `key:value pairs` enclosed in curly braces '{}'\n",
    "# so an example would be \n",
    "\n",
    "{'a':'first item', 'b':'second item'}\n",
    "\n",
    "# keys and values are joined together by colons ':' and each key:value pair is seperated by a comma (just like in a list)\n",
    "# we can assign a dict to a variable on the same line we create it\n",
    "# for example \n",
    "\n",
    "example_dict = {'c':6, 'd':10.2}\n",
    "\n",
    "# we can index a dict in a similar way to indexing other objects, but we use the key instead of an index number\n",
    "\n",
    "example_dict['c']"
   ]
  },
  {
   "cell_type": "markdown",
   "metadata": {},
   "source": [
    "If you take your time with these, and get us to check them/check them with eachother, you'll get a to grips with each piece of `syntax` more quickly and you'll start to see how they combine to add more power to your `code`. \n",
    "\n",
    "## A recap of functions\n",
    "\n",
    "You already know that a `function` is a means of 'compressing' complex `code` down into a simple and easy to type statment. This allows us to:\n",
    " 1. Type less code\n",
    "    1. Once you've wrapped all your code up in a function, you don't need to type it *all* out again, you just call the function\n",
    " 2. Avoid errors\n",
    "    1. The less code you have to write out in full repeatedly, the less risk of making mistakes (typos) that you then have to hundt dowm and fixt\n",
    " 3. Work more quickly\n",
    "    1. This one should be obvious, but calling a function can happen in a single line\n",
    " 4. Be flexible\n",
    "    1. Once we write a function that solves a problem, we can use it anytime we come up against that problem, and if we need to we can easily update the function to manage new cases\n",
    " 5. Share code\n",
    "    1. Functions allow us to give our code to others and to recieve code from them. This relates to `Modules` which we covered last week, and which we'll cover more later. \n",
    "\n",
    "*([see this really good tutorial for more info](https://www.freecodecamp.org/news/functions-in-python-a-beginners-guide/))*\n",
    "\n",
    "   \n",
    "   \n",
    "Over the last couple of weeks you have learned a couple of things about `functions`, how to `call` them and how to `define` them. In other words you've learned the `syntax` required to use one, and how to make new ones yourself. We won't recap `calling functions` here because you've already done it up above when you called the `print() function` but we want to take a minute to talk through making your own functions again. \n",
    "\n",
    "### Arguments\n",
    "\n",
    "You know that an `argument` is the bit that goes in between the brackets in a `function`, so in `print('Hello world')` the `argument` is 'hello world'. Just to be super obvious about it if we had `assigned` 'hello world to a `variable` first, like:\n",
    "\n",
    "```\n",
    "\n",
    "text = 'hello world'\n",
    "\n",
    "```\n",
    "\n",
    "then we would `pass` that `variable` as the `argument` to the `print function`, like so:\n",
    "\n",
    "```\n",
    "\n",
    "print(text)\n",
    "\n",
    "```\n",
    "\n",
    "Run the two cells below and see that the output for both cells is the same"
   ]
  },
  {
   "cell_type": "code",
   "execution_count": 7,
   "metadata": {},
   "outputs": [
    {
     "name": "stdout",
     "output_type": "stream",
     "text": [
      "Hello world\n"
     ]
    }
   ],
   "source": [
    "print('Hello world')"
   ]
  },
  {
   "cell_type": "code",
   "execution_count": 8,
   "metadata": {},
   "outputs": [
    {
     "name": "stdout",
     "output_type": "stream",
     "text": [
      "hello world\n"
     ]
    }
   ],
   "source": [
    "text = 'hello world'\n",
    "\n",
    "print(text)"
   ]
  },
  {
   "cell_type": "markdown",
   "metadata": {},
   "source": [
    "The thing to note here really is that `functions` can take any number of arguments, including 0, but each specific `function` will expect a certain number of arguments depending on what the `function` does (more on this in a few minutes). \n",
    "\n",
    "When `defining` your own `functions` it is really important to think about what you want it to do and about how many `arguments` are required to accomplish the goal of the function. We're going to show you a couple of simple examples and get you to try to replicate the functionality yourself, to expose you to the `syntax` again. \n",
    "\n",
    "### 0 argument functions\n",
    "\n",
    "Imagine that you want to have a `function` that does exactly the same thing everytime, like printing out a particular message, a message that doesn't change. Let's say that you want to use it to check and see that your jupyter notebook is working. One of the ways you might do this is to make a `function` that takes no `arguments`:\n",
    "\n",
    "```\n",
    "def ex_func_1(): # starts with 'def', this tells python your *defining* a function, ends with a colon ':', don't forget the :\n",
    "    ```this function take no arguments\n",
    "     and just prints out a message that never changes``` # these are called docstrings, check the week 3 notebook for more info on them\n",
    "    print('Hello user, it appears that your notebook is working') #again note the indentation\n",
    "\n",
    "```\n",
    "\n",
    "The function above will do one thing for you and thats all it can do. It's not flexible (and maybe you don't need it to be), but it is repeatable and much quicker to type than the full print statement (once you've defined it.)\n",
    "\n",
    "you would  `call` the `function` like this:\n",
    "\n",
    "```\n",
    "ex_func_1()\n",
    "```\n",
    "\n",
    "in the code cell below, *without copying and pasting*, `define` a `function` that does the same thing as the `function` above, give it a different name and `call` it after you've `defined` it."
   ]
  },
  {
   "cell_type": "code",
   "execution_count": null,
   "metadata": {},
   "outputs": [],
   "source": [
    "# Define the function below this comment, add docstrings to explain it\n",
    "\n",
    "\n",
    "# call the function below this comment. "
   ]
  },
  {
   "cell_type": "markdown",
   "metadata": {},
   "source": [
    "Alright, stop. \n",
    "\n",
    "Hammer time (sorry)\n",
    "\n",
    "Before you move on from here, take a little time and really try to identify the key components of this `syntax`. At the most basic level, learning to code is just taking simple `syntax` and adding to it or recongifuring it, so don't just rush through these note books, try to *see* what is happening in each `line` and how the `lines` relate to each other. \n",
    "\n",
    "\n",
    "### Single-argument functions\n",
    "\n",
    "So you've just `defined a function` that takes no arguments, which means it always does exactly the same thing, which, honestly is quite rare, generally we want functions to be flexible, so that when we solve a problem, we *also solve a lot of similar problems*. This is the where the power of `arguments` comes in. \n",
    "\n",
    "If you look at the example of `ex_func_1()` up above you can see that it prints the text:\n",
    "\n",
    "`Hello user, it appears that your notebook is working`\n",
    "\n",
    "But what if we want it to be able to greet the user by name instead? In otherwords, what if we want it to be more *flexible*? Now, if you're the only person who's ever using the function you could just replace `'user`' with your name when `defining` the `function` but that doesn't solve the problem in the long term. Instead we would define the function so that it expects 1 `argument` like so:\n",
    "\n",
    "```\n",
    "def ex_func_2(x):\n",
    "    '''This function takes a string and then prints out a message that\n",
    "    includes that string in it'''\n",
    "    print(f'Hello {x}, it appears that your notebook is working')# note that we're using an 'f-string' here\n",
    "\n",
    "```\n",
    "\n",
    "What has really changed here? \n",
    "\n",
    "Well we can see that instead of leaving the space between the brackets empty, we have put 'x' in between the brackets, and instead of the 'normal' `string`, we're using the more flexible `f-string`. That's it, 2 small changes and we have something that is much more powerful. \n",
    "\n",
    "This time, when you call the function it is *expecting* to have some object in between the brackets, it's expecting an `argument`.\n",
    "\n",
    "In the cell below, again, without copying and pasting, `define` a `function` that replicates `ex_func_2()`. Again, give it a different name, and if you like you can change the `f-string` to print out a different message."
   ]
  },
  {
   "cell_type": "code",
   "execution_count": 11,
   "metadata": {},
   "outputs": [
    {
     "name": "stdout",
     "output_type": "stream",
     "text": [
      "Hello\n"
     ]
    }
   ],
   "source": [
    "# define your single-argument function below\n",
    "# don't forget docstrings and comments\n",
    "\n",
    "\n",
    "\n",
    "\n",
    "# DON'T call your new function yet"
   ]
  },
  {
   "cell_type": "markdown",
   "metadata": {},
   "source": [
    "Make sure you run the cell above so that your function is actually defined. \n",
    "\n",
    "Work through the 2 `code cells` below to play around with calling your new function, don't forget to run each cell. "
   ]
  },
  {
   "cell_type": "code",
   "execution_count": null,
   "metadata": {},
   "outputs": [],
   "source": [
    "# call your function on the next line and put your name in between the brackets (remember that it has to be a string)"
   ]
  },
  {
   "cell_type": "code",
   "execution_count": null,
   "metadata": {},
   "outputs": [],
   "source": [
    "# assign your name (as a string) to the variable n on the next line\n",
    "\n",
    "\n",
    "# now call your function, but instead of typing your name as a string between the brackets, just use n"
   ]
  },
  {
   "cell_type": "markdown",
   "metadata": {},
   "source": [
    "If you've done it right, both of the above cells will poduce the same output, this should indicate what the `x` is doing in `ex_func_2()`; its just a place holder, or you could also think of it as a `variable` that isn't `assigned` until you `call` the `function`.\n",
    "\n"
   ]
  }
 ],
 "metadata": {
  "interpreter": {
   "hash": "da3e0b0f4dc5d44db4d7e0a7396f401911ef6d0325c18f6517bd5ad3af6d2cfb"
  },
  "kernelspec": {
   "display_name": "Python 3.9.6 64-bit ('research': venv)",
   "language": "python",
   "name": "python3"
  },
  "language_info": {
   "codemirror_mode": {
    "name": "ipython",
    "version": 3
   },
   "file_extension": ".py",
   "mimetype": "text/x-python",
   "name": "python",
   "nbconvert_exporter": "python",
   "pygments_lexer": "ipython3",
   "version": "3.9.6"
  },
  "orig_nbformat": 4
 },
 "nbformat": 4,
 "nbformat_minor": 2
}
